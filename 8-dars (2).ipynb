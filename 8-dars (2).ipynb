{
 "cells": [
  {
   "cell_type": "markdown",
   "id": "85e4ff19-5e21-4fbc-88dd-9edef0b265b3",
   "metadata": {},
   "source": [
    "## zip, enumerate"
   ]
  },
  {
   "cell_type": "code",
   "execution_count": null,
   "id": "6b8c3093-4a78-446a-83c3-f3c448c0bb8b",
   "metadata": {},
   "outputs": [],
   "source": [
    "ismlar = [\"Shoxrux\", \"Dilnura\", \"Asalxon\", \"Zaynabjon\"]\n",
    "mevalar = [\"Olma\", \"Olcha\", \"Anor\", \"Behi\", \"Banan\"]\n",
    "\n",
    "for ism, meva in zip(ismlar, mevalar):\n",
    "    print(f\" {ism} {meva}ni afzal ko'radi\")"
   ]
  },
  {
   "cell_type": "code",
   "execution_count": null,
   "id": "ba2b9702-da5c-45d8-9fc7-c6b529ed1845",
   "metadata": {},
   "outputs": [],
   "source": [
    "print(\"0\", \"Olma\")\n",
    "print(\"1\", \"Olcha\")"
   ]
  },
  {
   "cell_type": "code",
   "execution_count": null,
   "id": "1f878e93-4f77-44aa-bf2c-5e6e661c5d81",
   "metadata": {},
   "outputs": [],
   "source": [
    "mevalar = [\"Olma\", \"Olcha\", \"Anor\", \"Behi\", \"Banan\"]\n",
    "\n",
    "for raqam, meva in enumerate(mevalar, start=1):\n",
    "    print(raqam, meva)"
   ]
  },
  {
   "cell_type": "code",
   "execution_count": null,
   "id": "bbfbdf50-fb7a-4b49-a0b5-e14b0de3335a",
   "metadata": {},
   "outputs": [],
   "source": [
    "print(list(range(10)))"
   ]
  },
  {
   "cell_type": "code",
   "execution_count": null,
   "id": "4ab95add-a35d-48d7-be1f-6b36d4c58d43",
   "metadata": {},
   "outputs": [],
   "source": [
    "for i in range(5,0,-1):\n",
    "    print(i)"
   ]
  },
  {
   "cell_type": "code",
   "execution_count": null,
   "id": "bd0e659b-a0b8-4447-a014-3ec019e2b8c9",
   "metadata": {},
   "outputs": [],
   "source": [
    "for i in range(5,0,-1):\n",
    "    print(i)\n",
    "    if i == 1:\n",
    "        print(\"Tabrik\")"
   ]
  },
  {
   "cell_type": "markdown",
   "id": "a38bcef7-9122-4564-be45-d7895c73b878",
   "metadata": {},
   "source": [
    "## List comprehension"
   ]
  },
  {
   "cell_type": "raw",
   "id": "5cf20f51-05cd-4eeb-b7a3-5909b03d594d",
   "metadata": {},
   "source": [
    "o'zgaruvchi = [natija for i in takrorlanuvchi if shart]"
   ]
  },
  {
   "cell_type": "code",
   "execution_count": null,
   "id": "29c3e7d6-5c3e-4004-982e-649166ceca7f",
   "metadata": {},
   "outputs": [],
   "source": [
    "a = [\"Tabrik\" if i==0 else i for i in range(5,-1,-1)]\n",
    "print(a)"
   ]
  },
  {
   "cell_type": "code",
   "execution_count": null,
   "id": "e0d01d24-8f2c-46ff-9b6d-8cc967048f37",
   "metadata": {},
   "outputs": [],
   "source": [
    "for i in range(1,3):\n",
    "    for j in range(1,11):\n",
    "        print(f\"{i} x {j} = {i*j}\")"
   ]
  },
  {
   "cell_type": "code",
   "execution_count": null,
   "id": "beec6a4e-7b2b-4afc-869e-66f9c3ae1b02",
   "metadata": {
    "scrolled": true
   },
   "outputs": [],
   "source": [
    "a = 2\n",
    "b = 3\n",
    "\n",
    "for i in range(a):\n",
    "    for j in range(b):\n",
    "        print(f\"{i} x {j} = {i*j}\")"
   ]
  },
  {
   "cell_type": "code",
   "execution_count": null,
   "id": "f7bb4152-d1fb-4c87-b1f1-4531affbf202",
   "metadata": {},
   "outputs": [],
   "source": [
    "a = int(input(\"Jadval uchun raqam kiriting: \"))\n",
    "\n",
    "for i in range(a, a+1):\n",
    "    for j in range(1,11):\n",
    "        print(f\"{i} x {j} = {i*j}\")"
   ]
  },
  {
   "cell_type": "code",
   "execution_count": null,
   "id": "49363cfe-0cf8-4e51-a82f-c3abc16e0658",
   "metadata": {},
   "outputs": [],
   "source": []
  }
 ],
 "metadata": {
  "kernelspec": {
   "display_name": "Python 3 (ipykernel)",
   "language": "python",
   "name": "python3"
  },
  "language_info": {
   "codemirror_mode": {
    "name": "ipython",
    "version": 3
   },
   "file_extension": ".py",
   "mimetype": "text/x-python",
   "name": "python",
   "nbconvert_exporter": "python",
   "pygments_lexer": "ipython3",
   "version": "3.13.7"
  }
 },
 "nbformat": 4,
 "nbformat_minor": 5
}
