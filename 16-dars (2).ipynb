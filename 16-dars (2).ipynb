{
 "cells": [
  {
   "cell_type": "markdown",
   "id": "4fe03494-1af8-476b-819e-4dbda9176976",
   "metadata": {},
   "source": [
    "# Dictionary"
   ]
  },
  {
   "cell_type": "code",
   "execution_count": null,
   "id": "c931e72d-b563-4715-9358-458093a52456",
   "metadata": {},
   "outputs": [],
   "source": [
    "{key1: value1, key2: value2}"
   ]
  },
  {
   "cell_type": "code",
   "execution_count": null,
   "id": "5e268261-c237-44be-9eb0-590679f3c9da",
   "metadata": {},
   "outputs": [],
   "source": [
    "student = {\n",
    "    \"ism\": \"Shoxrux\",\n",
    "    \"familya\": \"Komilov\",\n",
    "    \"yoshi\": 17,\n",
    "    \"faoliyati\": \"Telefon proshifkasi\"\n",
    "}"
   ]
  },
  {
   "cell_type": "code",
   "execution_count": 16,
   "id": "61c372bb-7774-4a87-b477-31db832d1dc8",
   "metadata": {},
   "outputs": [],
   "source": [
    "a = {} # bo'sh dictionary"
   ]
  },
  {
   "cell_type": "code",
   "execution_count": null,
   "id": "23ebc00e-9d75-49bc-9f57-9738a2e8c5cf",
   "metadata": {},
   "outputs": [],
   "source": [
    "print(student)"
   ]
  },
  {
   "cell_type": "code",
   "execution_count": null,
   "id": "29e2832b-f8e2-4ba9-83c8-e25d08440711",
   "metadata": {},
   "outputs": [],
   "source": [
    "students = {\n",
    "    \"ism\": [\"Sarvar\", \"Asalxon\", \"Dilnura\", \"Shoxrux\"],\n",
    "    \"yoshi\": [17, 17, 17, 17],\n",
    "    \"faoliyati\": (\"talaba\", \"talaba\", \"talaba\", \"talaba\")\n",
    "}"
   ]
  },
  {
   "cell_type": "code",
   "execution_count": 19,
   "id": "5565a64b-11fe-45ea-a95a-0c93e3b2422c",
   "metadata": {},
   "outputs": [
    {
     "name": "stdout",
     "output_type": "stream",
     "text": [
      "['Sarvar', 'Asalxon', 'Dilnura', 'Shoxrux']\n"
     ]
    }
   ],
   "source": [
    "print(students[\"ism\"])  # keyword indexing"
   ]
  },
  {
   "cell_type": "code",
   "execution_count": 20,
   "id": "0973be38-c85f-49b9-862f-e02c0a286cfd",
   "metadata": {},
   "outputs": [
    {
     "name": "stdout",
     "output_type": "stream",
     "text": [
      "dict_values([['Sarvar', 'Asalxon', 'Dilnura', 'Shoxrux'], [17, 17, 17, 17], ('talaba', 'talaba', 'talaba', 'talaba')])\n"
     ]
    }
   ],
   "source": [
    "print(students.values())"
   ]
  },
  {
   "cell_type": "code",
   "execution_count": 21,
   "id": "a57a78c9-212c-4740-9af2-f058e24cafe5",
   "metadata": {},
   "outputs": [
    {
     "name": "stdout",
     "output_type": "stream",
     "text": [
      "dict_keys(['ism', 'yoshi', 'faoliyati'])\n"
     ]
    }
   ],
   "source": [
    "print(students.keys())"
   ]
  },
  {
   "cell_type": "code",
   "execution_count": 23,
   "id": "f57e2d55-88db-4c69-ac15-b9d165c4a263",
   "metadata": {},
   "outputs": [
    {
     "name": "stdout",
     "output_type": "stream",
     "text": [
      "dict_items([('ism', ['Sarvar', 'Asalxon', 'Dilnura', 'Shoxrux']), ('yoshi', [17, 17, 17, 17]), ('faoliyati', ('talaba', 'talaba', 'talaba', 'talaba'))])\n"
     ]
    }
   ],
   "source": [
    "print(students.items())"
   ]
  },
  {
   "cell_type": "code",
   "execution_count": 28,
   "id": "985dbe3c-4010-4bd4-a882-8c52a74d078d",
   "metadata": {},
   "outputs": [
    {
     "name": "stdout",
     "output_type": "stream",
     "text": [
      "['Sarvar', 'Asalxon', 'Dilnura', 'Shoxrux']\n"
     ]
    }
   ],
   "source": [
    "print(students.get(\"ism\", \"mavjud emas\"))"
   ]
  },
  {
   "cell_type": "code",
   "execution_count": 32,
   "id": "2606e375-a607-482f-b4eb-b90406010083",
   "metadata": {},
   "outputs": [
    {
     "name": "stdout",
     "output_type": "stream",
     "text": [
      "Asalxon\n"
     ]
    }
   ],
   "source": [
    "print(students[\"ism\"][1])"
   ]
  },
  {
   "cell_type": "code",
   "execution_count": 40,
   "id": "724cd696-30e8-4ddd-b80f-670db2a0c210",
   "metadata": {},
   "outputs": [
    {
     "name": "stdout",
     "output_type": "stream",
     "text": [
      "Asalxon\n"
     ]
    }
   ],
   "source": [
    "print(students.get(\"ism\")[1])"
   ]
  },
  {
   "cell_type": "raw",
   "id": "efb986c9-c2e5-4422-a141-c04e6fb61bd1",
   "metadata": {},
   "source": [
    "friend = {\n",
    "    \n",
    "}\n",
    "\n",
    "1. bir yoki bir necha ism kiritilsin\n",
    "2. birdan ko'p qiziqishlari kiritilsin\n",
    "3. faqat kalit so'zlarini print qiling\n",
    "4. faqat qiymatlarni (values) print qiling\n",
    "5. oxirgi 2 ta qiziqishni print qiling"
   ]
  },
  {
   "cell_type": "code",
   "execution_count": 41,
   "id": "59b85b35-0d4c-4d4d-9a44-a4ab000832c4",
   "metadata": {},
   "outputs": [],
   "source": [
    "friend = {\n",
    "    \"ism\": [\"Ali\", \"Orif\"],\n",
    "    \"qiziqishlari\": [\"kitob o'qish\", \"kino ko'rish\", \"yangi narsa o'rganish\"]\n",
    "}"
   ]
  },
  {
   "cell_type": "code",
   "execution_count": 42,
   "id": "69e92a83-d207-46a5-a7e5-c812c3645148",
   "metadata": {},
   "outputs": [
    {
     "name": "stdout",
     "output_type": "stream",
     "text": [
      "dict_keys(['ism', 'qiziqishlari'])\n"
     ]
    }
   ],
   "source": [
    "print(friend.keys())"
   ]
  },
  {
   "cell_type": "code",
   "execution_count": 43,
   "id": "7c00d199-2f34-4b3c-8a07-59c2daf3923c",
   "metadata": {},
   "outputs": [
    {
     "name": "stdout",
     "output_type": "stream",
     "text": [
      "dict_values([['Ali', 'Orif'], [\"kitob o'qish\", \"kino ko'rish\", \"yangi narsa o'rganish\"]])\n"
     ]
    }
   ],
   "source": [
    "print(friend.values())"
   ]
  },
  {
   "cell_type": "code",
   "execution_count": 44,
   "id": "46f1a118-4bc2-46c7-ac3c-a1eb3a86d095",
   "metadata": {},
   "outputs": [
    {
     "name": "stdout",
     "output_type": "stream",
     "text": [
      "[\"kino ko'rish\", \"yangi narsa o'rganish\"]\n"
     ]
    }
   ],
   "source": [
    "print(friend[\"qiziqishlari\"][-2:])"
   ]
  },
  {
   "cell_type": "code",
   "execution_count": 46,
   "id": "37cc9253-f42a-421c-bbe1-656811452683",
   "metadata": {},
   "outputs": [
    {
     "name": "stdout",
     "output_type": "stream",
     "text": [
      "[\"kino ko'rish\", \"yangi narsa o'rganish\"]\n"
     ]
    }
   ],
   "source": [
    "print(friend.get(\"qiziqishlari\")[-2:])"
   ]
  },
  {
   "cell_type": "markdown",
   "id": "83fcbf35-938c-4ef2-9a53-4eb6448f2c63",
   "metadata": {},
   "source": [
    "# Set"
   ]
  },
  {
   "cell_type": "code",
   "execution_count": 1,
   "id": "3d7975c3-0fbc-4dbf-a0ee-f08cfed930ea",
   "metadata": {},
   "outputs": [
    {
     "name": "stdout",
     "output_type": "stream",
     "text": [
      "{1, 2, 3, 4, 5}\n"
     ]
    }
   ],
   "source": [
    "number = {1,2,3,4,5,5}\n",
    "print(number)"
   ]
  },
  {
   "cell_type": "code",
   "execution_count": null,
   "id": "75665809-60f1-4fb2-b2a5-cdc6d1985295",
   "metadata": {},
   "outputs": [],
   "source": []
  }
 ],
 "metadata": {
  "kernelspec": {
   "display_name": "Python 3 (ipykernel)",
   "language": "python",
   "name": "python3"
  },
  "language_info": {
   "codemirror_mode": {
    "name": "ipython",
    "version": 3
   },
   "file_extension": ".py",
   "mimetype": "text/x-python",
   "name": "python",
   "nbconvert_exporter": "python",
   "pygments_lexer": "ipython3",
   "version": "3.13.7"
  }
 },
 "nbformat": 4,
 "nbformat_minor": 5
}
