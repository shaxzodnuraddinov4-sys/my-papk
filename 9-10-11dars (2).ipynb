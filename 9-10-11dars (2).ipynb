{
 "cells": [
  {
   "cell_type": "markdown",
   "id": "0ce0673a-e061-41ca-9c7c-2cd19a7a3548",
   "metadata": {},
   "source": [
    "# List"
   ]
  },
  {
   "cell_type": "code",
   "execution_count": null,
   "id": "de6c086a-4533-4e1e-899e-76f30ffd469b",
   "metadata": {},
   "outputs": [],
   "source": [
    "a = [\"Olma\", \"Nok\", \"Anor\", \"Bexi\", 235,46,0,-654, 46.415, True, False]"
   ]
  },
  {
   "cell_type": "code",
   "execution_count": null,
   "id": "cffa394e-f79c-4b6e-af79-c351b9181d3d",
   "metadata": {},
   "outputs": [],
   "source": [
    "print([\"Olma\", \"Nok\", \"Anor\", \"Bexi\", 235,46,0,-654, 46.415, True, False])"
   ]
  },
  {
   "cell_type": "code",
   "execution_count": null,
   "id": "d4883cce-4ab3-4d49-8eb1-9e113ac858e1",
   "metadata": {},
   "outputs": [],
   "source": [
    "print(a)"
   ]
  },
  {
   "cell_type": "markdown",
   "id": "c6c480b6-e721-4eb8-b58e-28cab9efc800",
   "metadata": {},
   "source": [
    "# List indexing"
   ]
  },
  {
   "cell_type": "code",
   "execution_count": null,
   "id": "838d4249-ad69-4173-9a85-200793a40151",
   "metadata": {},
   "outputs": [],
   "source": [
    "print(a[0])\n",
    "print(a[2])"
   ]
  },
  {
   "cell_type": "code",
   "execution_count": null,
   "id": "729ca56c-b1d4-40ef-bf00-ebc5edd9a23c",
   "metadata": {},
   "outputs": [],
   "source": [
    "# eng oxiridan birinchini chiqarish\n",
    "print(a[-1])"
   ]
  },
  {
   "cell_type": "markdown",
   "id": "db5de2fb-ad9a-4926-848f-27d59cb6aaf8",
   "metadata": {},
   "source": [
    "# List slicing"
   ]
  },
  {
   "cell_type": "code",
   "execution_count": null,
   "id": "23ce76d0-954f-4ae3-aef2-7653591e0443",
   "metadata": {},
   "outputs": [],
   "source": [
    "print(a[0:3]) # 0 dan 3-indexGACHA (3-indexdagisi kirmaydi)\n",
    "print(a[2:7]) # 2 dan 7-indexGACHA (7-indexdagisi kirmaydi)\n",
    "print(a[0:])  # 0 dan (ya'ni boshidan) oxirigacha \n",
    "print(a[:])   # boshidan oxirigacha\n",
    "print(a[:3])  # boshidan (ya'ni 0 dan) 3-indexGACHA (3-indexdagisi kirmaydi)"
   ]
  },
  {
   "cell_type": "code",
   "execution_count": null,
   "id": "cf051018-97be-42d0-8f03-7d05fea78ada",
   "metadata": {},
   "outputs": [],
   "source": [
    "print(a[-3:-1]) # oxiridan 2 tasini chiqarish, eng oxirgisi chiqmaydi.\n",
    "print(a[-3:])   # oxiridan 3 tasini chiqarish, eng oxirgisi ham chiqadi."
   ]
  },
  {
   "cell_type": "code",
   "execution_count": null,
   "id": "15de85fc-a4fe-48fd-aa54-410837f6f3ce",
   "metadata": {},
   "outputs": [],
   "source": [
    "b = [0,1,2,3,4,5,6,7,8,9,10,11,12,13,14,15,16,17,18,19,20]"
   ]
  },
  {
   "cell_type": "code",
   "execution_count": null,
   "id": "4947acce-d155-4517-a814-6481503b347f",
   "metadata": {},
   "outputs": [],
   "source": [
    "# list slicing formulasi\n",
    "print(variable[start:end:step])"
   ]
  },
  {
   "cell_type": "code",
   "execution_count": null,
   "id": "821c5b61-e150-4ed5-a918-d780d20a5e6c",
   "metadata": {},
   "outputs": [],
   "source": [
    "print(b[0:11:4])\n",
    "print(b[::4])"
   ]
  },
  {
   "cell_type": "code",
   "execution_count": null,
   "id": "ad84c4af-a8c9-4ff7-b776-69287998cd14",
   "metadata": {},
   "outputs": [],
   "source": [
    "# 1 dan 20 gacha toq sonlarni chiqaring\n",
    "print(b[1:20:2])"
   ]
  },
  {
   "cell_type": "code",
   "execution_count": null,
   "id": "4bc54f75-105a-46c0-a41c-838a4b97a83f",
   "metadata": {},
   "outputs": [],
   "source": [
    "# teskari aylantirish = reverse\n",
    "print(b[::-1])"
   ]
  },
  {
   "cell_type": "code",
   "execution_count": null,
   "id": "5a96f758-4384-40e8-8c38-c1d47ed310b4",
   "metadata": {},
   "outputs": [],
   "source": [
    "num = [1,2,3,4,5]\n",
    "print(num[::-1])"
   ]
  },
  {
   "cell_type": "markdown",
   "id": "e09991b8-2d5e-416e-a47d-e168a7ba8028",
   "metadata": {},
   "source": [
    "# List metodlari"
   ]
  },
  {
   "cell_type": "code",
   "execution_count": 1,
   "id": "53e2e945-5b3d-4718-ba16-e188d30a2c71",
   "metadata": {},
   "outputs": [],
   "source": [
    "meva = [\"Nok\", \"Uzum\", \"Anor\"]"
   ]
  },
  {
   "cell_type": "raw",
   "id": "e48c4f35-bfbd-4e18-984d-f83fc6ebc8ef",
   "metadata": {},
   "source": [
    ".append()  # listning oxiriga data qo'shish"
   ]
  },
  {
   "cell_type": "code",
   "execution_count": null,
   "id": "0a6a331f-3a4b-448b-9b71-80702d7a19cf",
   "metadata": {},
   "outputs": [],
   "source": [
    "meva.append(\"Olma\")"
   ]
  },
  {
   "cell_type": "code",
   "execution_count": null,
   "id": "614fae7a-ce6a-4084-8c63-de9d0fc75748",
   "metadata": {},
   "outputs": [],
   "source": [
    "print(meva)"
   ]
  },
  {
   "cell_type": "raw",
   "id": "30f140bb-4882-46cf-bd87-4f74031ef848",
   "metadata": {},
   "source": [
    ".insert(index, data) # listing ko'rsatilgan joyiga data qo'shish"
   ]
  },
  {
   "cell_type": "code",
   "execution_count": 2,
   "id": "76b9c76a-50e1-4a32-98f4-106e37f203f0",
   "metadata": {},
   "outputs": [],
   "source": [
    "meva.insert(0, \"Limon\")"
   ]
  },
  {
   "cell_type": "code",
   "execution_count": 3,
   "id": "043a4849-360d-4a69-8142-e3402b8479aa",
   "metadata": {},
   "outputs": [
    {
     "name": "stdout",
     "output_type": "stream",
     "text": [
      "['Limon', 'Nok', 'Uzum', 'Anor']\n"
     ]
    }
   ],
   "source": [
    "print(meva)"
   ]
  },
  {
   "cell_type": "raw",
   "id": "1df43a5c-03ef-4316-b91c-0e00c258e46d",
   "metadata": {},
   "source": [
    ".remove() # o'chirish uchun ishlatiladi"
   ]
  },
  {
   "cell_type": "code",
   "execution_count": null,
   "id": "332002c9-8225-4e09-ae51-a4d56dd74624",
   "metadata": {},
   "outputs": [],
   "source": [
    "meva.remove(\"Uzum\")"
   ]
  },
  {
   "cell_type": "code",
   "execution_count": null,
   "id": "8bfed418-ae6e-4c6e-a4b2-bef65a7d950c",
   "metadata": {},
   "outputs": [],
   "source": [
    "print(meva)"
   ]
  },
  {
   "cell_type": "markdown",
   "id": "d2b93ae7-a317-4bf0-8c05-ebb0d6462cd1",
   "metadata": {},
   "source": [
    "# List uchun foydali funksiyalar"
   ]
  },
  {
   "cell_type": "code",
   "execution_count": null,
   "id": "3d82e106-dadd-4757-82c4-275dfdb0f2fd",
   "metadata": {},
   "outputs": [],
   "source": [
    "meva = ['Limon', 'Nok', 'Uzum', 'Anor', 'Olma']"
   ]
  },
  {
   "cell_type": "code",
   "execution_count": null,
   "id": "94da3c22-c1a1-431d-a4fe-84738e4f656c",
   "metadata": {},
   "outputs": [],
   "source": [
    "del meva[0]  # data ni o'chirish uchun funksiya"
   ]
  },
  {
   "cell_type": "code",
   "execution_count": null,
   "id": "386e88a4-e316-45aa-abd5-a0ec01cffdd5",
   "metadata": {},
   "outputs": [],
   "source": [
    "print(meva)"
   ]
  },
  {
   "cell_type": "raw",
   "id": "3c925c55-2a2e-466c-bf03-6b336840b4a3",
   "metadata": {},
   "source": [
    "len - ro'yxat ichidagi belgilarni sanaydi"
   ]
  },
  {
   "cell_type": "code",
   "execution_count": null,
   "id": "eaf36311-753a-4ac8-ab17-2d3a9fae2433",
   "metadata": {},
   "outputs": [],
   "source": [
    "len(meva) # meva nomli list ichidagi obyektlarni sanadi"
   ]
  },
  {
   "cell_type": "code",
   "execution_count": null,
   "id": "a89b03ec-7604-4186-b417-fd62d3615231",
   "metadata": {},
   "outputs": [],
   "source": [
    "yosh = [14, 15, 19, 12, 20]"
   ]
  },
  {
   "cell_type": "code",
   "execution_count": null,
   "id": "bf1efbc6-626f-4d67-930a-e02bbf8088ff",
   "metadata": {},
   "outputs": [],
   "source": [
    "min(yosh) # listdagi eng kichigini chiqaradi"
   ]
  },
  {
   "cell_type": "code",
   "execution_count": null,
   "id": "fef79423-3d21-46ef-8e3a-685479a57aae",
   "metadata": {},
   "outputs": [],
   "source": [
    "max(yosh)  # listdagi eng kattasini chiqaradi"
   ]
  },
  {
   "cell_type": "code",
   "execution_count": null,
   "id": "817bd5c9-4860-4605-b396-70a94212a849",
   "metadata": {},
   "outputs": [],
   "source": [
    "kg = [6, 6.5, 4, 7, 9]"
   ]
  },
  {
   "cell_type": "code",
   "execution_count": null,
   "id": "7e31d617-dcb9-4265-aa36-ea5c77023d4a",
   "metadata": {},
   "outputs": [],
   "source": [
    "print(kg)"
   ]
  },
  {
   "cell_type": "code",
   "execution_count": null,
   "id": "19bbf1e1-02b0-4046-87cf-8e3713d12f70",
   "metadata": {},
   "outputs": [],
   "source": [
    "sum(kg)  # yig'indisini topish"
   ]
  },
  {
   "cell_type": "code",
   "execution_count": null,
   "id": "0b260060-ef5d-4a9b-af7e-6d24ba16e972",
   "metadata": {},
   "outputs": [],
   "source": [
    "sorted(kg) # o'sish ketme-ketligida tartiblab chiqaradi"
   ]
  },
  {
   "cell_type": "raw",
   "id": "2c063ded-f338-4b33-84d3-fa6405d7e007",
   "metadata": {},
   "source": [
    ".sort -- datani o'sish ketma-ketligida tartiblab saqlaydi."
   ]
  },
  {
   "cell_type": "code",
   "execution_count": null,
   "id": "85c6249d-8d80-4149-b741-73696f3b539b",
   "metadata": {},
   "outputs": [],
   "source": [
    "kg.sort()"
   ]
  },
  {
   "cell_type": "code",
   "execution_count": null,
   "id": "30d7277e-ec55-4cd4-a91a-c3ac96b692cc",
   "metadata": {},
   "outputs": [],
   "source": [
    "print(kg)"
   ]
  },
  {
   "cell_type": "raw",
   "id": "b26bffa5-fcb1-4aac-bf63-93502efa4bad",
   "metadata": {},
   "source": [
    "Mashq: 1. 5ta eng yoqtirgan kinoyingiz bor list yarating va uchinchisini print qiling.\n",
    "2. shu ro'yhatingiz oxiriga yana bitta kino qoshing\n",
    "3. Birinchi kinoni o'chiring\n",
    "4. for loop ishlatgan holda hamma kinoning nomini KATTA harflarda chiqaring"
   ]
  },
  {
   "cell_type": "code",
   "execution_count": null,
   "id": "10e06baf-2560-4891-9e9f-02c91c494a37",
   "metadata": {},
   "outputs": [],
   "source": [
    "kino = [\"Spiderman\", \"Tezlik\", \"Transformers\",\"Harry Potter\", \"Pikey\"]\n",
    "print(kino[2])"
   ]
  },
  {
   "cell_type": "code",
   "execution_count": null,
   "id": "097980b5-4dca-408d-8b8f-bbce1e86ae6b",
   "metadata": {},
   "outputs": [],
   "source": [
    "kino.append(\"Kraven\")"
   ]
  },
  {
   "cell_type": "code",
   "execution_count": null,
   "id": "1fa3557f-de3d-4800-a880-35b827d727d6",
   "metadata": {},
   "outputs": [],
   "source": [
    "print(kino)"
   ]
  },
  {
   "cell_type": "code",
   "execution_count": null,
   "id": "463d2106-4ca3-4657-820f-71306070bee1",
   "metadata": {},
   "outputs": [],
   "source": [
    "del kino[0]"
   ]
  },
  {
   "cell_type": "code",
   "execution_count": null,
   "id": "f49167a8-77f0-4a06-8cab-94ffc5ffd970",
   "metadata": {},
   "outputs": [],
   "source": [
    "print(kino[0])"
   ]
  },
  {
   "cell_type": "code",
   "execution_count": null,
   "id": "06e6ca59-7658-4bc7-b728-553b92cd4291",
   "metadata": {},
   "outputs": [],
   "source": [
    "for kinolar in kino:\n",
    "    print(kinolar.upper())"
   ]
  },
  {
   "cell_type": "code",
   "execution_count": null,
   "id": "1b314e72-0a08-41a5-93a0-60f025d915ac",
   "metadata": {},
   "outputs": [],
   "source": [
    "print(kino)"
   ]
  },
  {
   "cell_type": "raw",
   "id": "92ed024d-e530-4423-b806-19d5904dcb2a",
   "metadata": {},
   "source": [
    "# listga boshqa list qo'shish\n",
    ".extend() "
   ]
  },
  {
   "cell_type": "code",
   "execution_count": null,
   "id": "f9746ef8-1c27-47fb-bcd6-7dbb8a72b4c9",
   "metadata": {},
   "outputs": [],
   "source": [
    "kino.extend([\"Avengers\", \"Batman\", \"Avatar\"])"
   ]
  },
  {
   "cell_type": "code",
   "execution_count": null,
   "id": "403a9712-2ef6-4f9c-907b-c59d3724d690",
   "metadata": {},
   "outputs": [],
   "source": [
    "b = [\"Avengers\", \"Batman\", \"Avatar\"]\n",
    "kino.entend(b)"
   ]
  },
  {
   "cell_type": "raw",
   "id": "019f505c-310c-4d25-a0cd-1b4cee512964",
   "metadata": {},
   "source": [
    "# Biror elementni nechta takrorlanganini sanash \n",
    ".count()"
   ]
  },
  {
   "cell_type": "code",
   "execution_count": null,
   "id": "4aaef384-f9f4-4600-b82b-3a8b483d89fa",
   "metadata": {},
   "outputs": [],
   "source": [
    "print(kino)"
   ]
  },
  {
   "cell_type": "code",
   "execution_count": null,
   "id": "f68b3918-ec8b-48f1-bc71-bdf543f910db",
   "metadata": {},
   "outputs": [],
   "source": [
    "kino.count('Tezlik')"
   ]
  },
  {
   "cell_type": "code",
   "execution_count": null,
   "id": "1a745950-3ef9-47fb-86a3-86569a147ee2",
   "metadata": {},
   "outputs": [],
   "source": [
    "raqamlar = [12, 4, 56, 28, 2, 8, 56, 90]"
   ]
  },
  {
   "cell_type": "code",
   "execution_count": null,
   "id": "0494fa01-3345-4997-96fa-d58b6117377f",
   "metadata": {},
   "outputs": [],
   "source": [
    "raqamlar.count(56)"
   ]
  },
  {
   "cell_type": "markdown",
   "id": "0545070f-31be-43e4-8965-7edecec4ff78",
   "metadata": {},
   "source": [
    "# Referencing va Copy"
   ]
  },
  {
   "cell_type": "code",
   "execution_count": null,
   "id": "7234b551-d50c-42b2-a8c0-2ee5c78e9485",
   "metadata": {},
   "outputs": [],
   "source": [
    "raqamlar = [12, 4, 56, 28, 2, 8, 56, 90]"
   ]
  },
  {
   "cell_type": "code",
   "execution_count": null,
   "id": "de777378-432f-432b-8270-612f76ff540c",
   "metadata": {},
   "outputs": [],
   "source": [
    "a = raqamlar  # referencing\n",
    "a.append(20)"
   ]
  },
  {
   "cell_type": "code",
   "execution_count": null,
   "id": "2c175e38-5613-46a7-a631-e6777c4d9ee7",
   "metadata": {},
   "outputs": [],
   "source": [
    "print(a)\n",
    "print(raqamlar)"
   ]
  },
  {
   "cell_type": "code",
   "execution_count": null,
   "id": "81a24bcb-600c-4690-9c55-2610dc563a79",
   "metadata": {},
   "outputs": [],
   "source": [
    "a = raqamlar.copy()  # copy\n",
    "a.append(100)"
   ]
  },
  {
   "cell_type": "code",
   "execution_count": null,
   "id": "c923e406-b41e-425b-bea3-8d8ced97d61f",
   "metadata": {},
   "outputs": [],
   "source": [
    "print(a)\n",
    "print(raqamlar)"
   ]
  },
  {
   "cell_type": "markdown",
   "id": "6414df2c-4d2f-41d7-84f6-4eec2adbe41f",
   "metadata": {},
   "source": [
    "# Tartiblash \n",
    "* sort()\n",
    "* reverse()"
   ]
  },
  {
   "cell_type": "code",
   "execution_count": null,
   "id": "24d689a2-9642-448f-8095-7a0da6011015",
   "metadata": {},
   "outputs": [],
   "source": [
    "raqamlar = [12, 4, 56, 28, 2, 8, 56, 90]\n",
    "print(raqamlar)"
   ]
  },
  {
   "cell_type": "code",
   "execution_count": null,
   "id": "bbeca049-1475-4f6a-85aa-b188ed37e4f0",
   "metadata": {},
   "outputs": [],
   "source": [
    "raqamlar.sort(reverse=True) # kamayish ketma-ketligida tartiblash\n",
    "print(raqamlar)"
   ]
  },
  {
   "cell_type": "code",
   "execution_count": null,
   "id": "94ee9793-b3ab-442a-ae80-accd65aa5cec",
   "metadata": {},
   "outputs": [],
   "source": [
    "raqamlar = [12, 4, 56, 28, 2, 8, 56, 90]\n",
    "raqamlar.reverse()\n",
    "print(raqamlar)"
   ]
  },
  {
   "cell_type": "markdown",
   "id": "d53d81d3-8c7f-4ecc-bb8a-eb25580ce3a3",
   "metadata": {},
   "source": [
    "# Tozalash\n",
    "* remove()\n",
    "* clear()"
   ]
  },
  {
   "cell_type": "code",
   "execution_count": null,
   "id": "5a596bb3-2897-46cc-a9de-03bfc05c56f2",
   "metadata": {},
   "outputs": [],
   "source": [
    "raqamlar = [12, 4, 56, 28, 2, 8, 56, 90]\n",
    "raqamlar.remove(56) # birinchi topilgan 56 ni o'chiradi"
   ]
  },
  {
   "cell_type": "code",
   "execution_count": null,
   "id": "d226a144-6f88-4b2c-a7eb-527a09ef443d",
   "metadata": {},
   "outputs": [],
   "source": [
    "print(raqamlar)"
   ]
  },
  {
   "cell_type": "code",
   "execution_count": null,
   "id": "9f40ac8d-ec3c-4b67-8bff-f66505c4ea99",
   "metadata": {},
   "outputs": [],
   "source": [
    "raqamlar.clear() # o'zgaruvchi ichidagi hamma narsani o'chiradi"
   ]
  },
  {
   "cell_type": "code",
   "execution_count": null,
   "id": "1bf0e5ad-a520-4c46-a37e-9b13d28a5a6a",
   "metadata": {},
   "outputs": [],
   "source": [
    "print(raqamlar)"
   ]
  },
  {
   "cell_type": "raw",
   "id": "fe267112-7844-4180-84d1-84d8856d514f",
   "metadata": {},
   "source": [
    "num = [9, 1, 5, 3, 2, 5, 4, 6]\n",
    "\n",
    "\"num\" listini \"zaxira\" nomli o'zgaruvchiga nusxalab oling. \n",
    "\"num\" listini kamayish ketm-ketligida tartiblang.\n",
    "\"num\" listini teskariga aylantiring reverse metodi orqali.\n",
    "\"num\" listida birinchi 5 raqamini o'chiring.\n",
    "\"num\" listiga 7 va 8 raqamlaridan iborat list qo'shing,  extend metodidan foydalaning.\n",
    "\n",
    "Quyidagicha ko'rinishda \"num\"ni print qiling:\n",
    "\tTartiblangan raqamlar: 1,2,3,4,5,6,9,7,8\n",
    "\n",
    "\"num\" listidagi hamma narsani clear orqali o'chiring va quyidagicha natija chiqaring:\n",
    "\tHamma ma'lumot o'chgandan keyin listda qolgani: []\n",
    "\n",
    "\"zaxira\" listini quyidagicha print qiling:\n",
    "\tZaxira qilingan holat: [9, 1, 5, 3, 2, 5, 4, 6]"
   ]
  },
  {
   "cell_type": "code",
   "execution_count": null,
   "id": "81af860e-ec84-41a2-8b9e-00647ae9c38b",
   "metadata": {},
   "outputs": [],
   "source": [
    "num = [9, 1, 5, 3, 2, 5, 4, 6]"
   ]
  },
  {
   "cell_type": "code",
   "execution_count": null,
   "id": "1ef58661-002c-4d51-a60c-9b61f4be2dbe",
   "metadata": {},
   "outputs": [],
   "source": [
    "zaxira = num.copy()"
   ]
  },
  {
   "cell_type": "code",
   "execution_count": null,
   "id": "fc083a33-08f6-4380-9c02-90749192f5b7",
   "metadata": {},
   "outputs": [],
   "source": [
    "num.sort(reverse=True)"
   ]
  },
  {
   "cell_type": "code",
   "execution_count": null,
   "id": "29316149-6ed0-463a-9a07-da31b630e4aa",
   "metadata": {},
   "outputs": [],
   "source": [
    "num.reverse()"
   ]
  },
  {
   "cell_type": "code",
   "execution_count": null,
   "id": "ae4efdca-4c8e-4d7a-8663-5e3f82dddcb3",
   "metadata": {},
   "outputs": [],
   "source": [
    "num.remove(5)"
   ]
  },
  {
   "cell_type": "code",
   "execution_count": null,
   "id": "8b8cbcff-41a0-4024-b4e3-fb293ddbc798",
   "metadata": {},
   "outputs": [],
   "source": [
    "num.extend([7,8])"
   ]
  },
  {
   "cell_type": "code",
   "execution_count": null,
   "id": "5cd59eaf-3ad3-46be-b734-85f0e5939393",
   "metadata": {},
   "outputs": [],
   "source": [
    "print(f\"Tartiblangan raqamlar: {num}\")"
   ]
  },
  {
   "cell_type": "code",
   "execution_count": null,
   "id": "904c08f6-3907-489a-a5ec-36673c4a8939",
   "metadata": {},
   "outputs": [],
   "source": [
    "num.clear()"
   ]
  },
  {
   "cell_type": "code",
   "execution_count": null,
   "id": "dba4b157-63f1-4b13-9d71-d2c6b71feed2",
   "metadata": {},
   "outputs": [],
   "source": [
    "print(f\"Hamma ma'lumot o'chgandan keyin listda qolgani: {num}\")"
   ]
  },
  {
   "cell_type": "code",
   "execution_count": null,
   "id": "3c148e03-150f-4c8b-9b1a-5070e28de157",
   "metadata": {},
   "outputs": [],
   "source": [
    "print(f\"Zaxira qilingan holat: {zaxira}\")"
   ]
  },
  {
   "cell_type": "code",
   "execution_count": null,
   "id": "13c4f7e7-5c2a-479c-8de3-803e3565860f",
   "metadata": {},
   "outputs": [],
   "source": []
  }
 ],
 "metadata": {
  "kernelspec": {
   "display_name": "Python 3 (ipykernel)",
   "language": "python",
   "name": "python3"
  },
  "language_info": {
   "codemirror_mode": {
    "name": "ipython",
    "version": 3
   },
   "file_extension": ".py",
   "mimetype": "text/x-python",
   "name": "python",
   "nbconvert_exporter": "python",
   "pygments_lexer": "ipython3",
   "version": "3.13.7"
  }
 },
 "nbformat": 4,
 "nbformat_minor": 5
}
