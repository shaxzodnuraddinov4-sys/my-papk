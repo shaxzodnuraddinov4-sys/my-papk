{
 "cells": [
  {
   "cell_type": "code",
   "execution_count": null,
   "id": "57906b52-c6a0-423a-a70b-dd8afb580e81",
   "metadata": {},
   "outputs": [],
   "source": [
    "987*2, 9765\n",
    "987.2, 985.4, 5, \n",
    "\"987\"\n",
    "'987'\n",
    "'''sdsdg'''\n",
    "\"\"\"dsdgfs\"\"\""
   ]
  },
  {
   "cell_type": "code",
   "execution_count": 6,
   "id": "2eaa1c6b-a64c-495c-b930-02a83a42e34f",
   "metadata": {},
   "outputs": [
    {
     "data": {
      "text/plain": [
       "'55'"
      ]
     },
     "execution_count": 6,
     "metadata": {},
     "output_type": "execute_result"
    }
   ],
   "source": [
    "\"dfsd\n",
    "sdf\""
   ]
  },
  {
   "cell_type": "code",
   "execution_count": 1,
   "id": "8a3c45da-91da-4126-94ba-e8f24ad1f734",
   "metadata": {},
   "outputs": [
    {
     "data": {
      "text/plain": [
       "132"
      ]
     },
     "execution_count": 1,
     "metadata": {},
     "output_type": "execute_result"
    }
   ],
   "source": [
    "78+54"
   ]
  },
  {
   "cell_type": "markdown",
   "id": "d97b7aa8-ccee-47c3-8de4-ea9b65667772",
   "metadata": {},
   "source": [
    "# Data type (ma'lumotlar turi)\n",
    "* int (butun son)\n",
    "* float (qoldiqli son)\n",
    "* str (string - matn)"
   ]
  },
  {
   "cell_type": "code",
   "execution_count": null,
   "id": "74953ff2-3378-4986-93c5-5d75e0f72dd9",
   "metadata": {},
   "outputs": [],
   "source": [
    "45*6"
   ]
  },
  {
   "cell_type": "code",
   "execution_count": null,
   "id": "88d48b0e-45ce-4f1e-a3ee-4c3d512c4bdc",
   "metadata": {},
   "outputs": [],
   "source": [
    "12*0.5"
   ]
  },
  {
   "cell_type": "code",
   "execution_count": 24,
   "id": "546833db-31e4-43f8-9ae9-f5adf00ebc95",
   "metadata": {},
   "outputs": [
    {
     "name": "stdout",
     "output_type": "stream",
     "text": [
      "Salom\n",
      "Qalaysiz\n"
     ]
    }
   ],
   "source": [
    "print(\"Salom\")\n",
    "print('Qalaysiz')"
   ]
  },
  {
   "cell_type": "code",
   "execution_count": null,
   "id": "e18755aa-8012-4316-913b-7126d7beca57",
   "metadata": {},
   "outputs": [],
   "source": [
    "# bu code xatolik chiqaradi. Sababi matn tugallanmagan\n",
    "print('Salom)"
   ]
  },
  {
   "cell_type": "code",
   "execution_count": 19,
   "id": "bd20d08f-f38c-480a-9e7b-0d33739da942",
   "metadata": {},
   "outputs": [
    {
     "name": "stdout",
     "output_type": "stream",
     "text": [
      "Salom, \n",
      "Qalaysiz\n"
     ]
    }
   ],
   "source": [
    "print('''Salom, \n",
    "Qalaysiz''')"
   ]
  },
  {
   "cell_type": "code",
   "execution_count": 22,
   "id": "5eea3cc4-c838-4b40-a7d9-c7929be2ae89",
   "metadata": {},
   "outputs": [
    {
     "name": "stdout",
     "output_type": "stream",
     "text": [
      "Salom,\n",
      "Qalaysiz?\n"
     ]
    }
   ],
   "source": [
    "print(\"\"\"Salom,\n",
    "Qalaysiz?\"\"\")"
   ]
  },
  {
   "cell_type": "markdown",
   "id": "c0828b1b-cad7-4b5c-b1d3-ce4989d4d44a",
   "metadata": {},
   "source": [
    "# Comment"
   ]
  },
  {
   "cell_type": "code",
   "execution_count": 27,
   "id": "3f617c10-b08b-499e-b63b-e02668498263",
   "metadata": {},
   "outputs": [
    {
     "data": {
      "text/plain": [
       "338"
      ]
     },
     "execution_count": 27,
     "metadata": {},
     "output_type": "execute_result"
    }
   ],
   "source": [
    "45+68+48+49+78+17+25+8 # bu bir haftalik hisobot"
   ]
  },
  {
   "cell_type": "markdown",
   "id": "3d0a1f58-b507-4540-be61-726e452bbab2",
   "metadata": {},
   "source": [
    "# Variable"
   ]
  },
  {
   "cell_type": "code",
   "execution_count": 61,
   "id": "d5932c35-cf05-445d-b37a-0fcb9c34581b",
   "metadata": {},
   "outputs": [
    {
     "name": "stdout",
     "output_type": "stream",
     "text": [
      "Shoxrux\n",
      "Aslbek\n"
     ]
    }
   ],
   "source": [
    "ism = \"Shoxrux\"\n",
    "Ism = \"Aslbek\"\n",
    "print(ism)\n",
    "print(Ism) "
   ]
  },
  {
   "cell_type": "code",
   "execution_count": 73,
   "id": "fbd96116-fbd5-44db-8c73-3e0825e0cdf5",
   "metadata": {},
   "outputs": [
    {
     "data": {
      "text/plain": [
       "'ShoxruxAslbek'"
      ]
     },
     "execution_count": 73,
     "metadata": {},
     "output_type": "execute_result"
    }
   ],
   "source": [
    "ism+Ism"
   ]
  },
  {
   "cell_type": "code",
   "execution_count": 70,
   "id": "c3fe008f-6860-4964-aed4-77c42eedd4e9",
   "metadata": {},
   "outputs": [
    {
     "data": {
      "text/plain": [
       "'ShoxruxShoxruxShoxrux'"
      ]
     },
     "execution_count": 70,
     "metadata": {},
     "output_type": "execute_result"
    }
   ],
   "source": [
    "ism*3"
   ]
  },
  {
   "cell_type": "markdown",
   "id": "d9ccb260-6324-4605-9f4e-92f3a1eaa83e",
   "metadata": {},
   "source": [
    "# Format string"
   ]
  },
  {
   "cell_type": "code",
   "execution_count": 63,
   "id": "a321c866-8e12-4d60-b77d-5508ac8f2e50",
   "metadata": {},
   "outputs": [
    {
     "name": "stdout",
     "output_type": "stream",
     "text": [
      "Salom, mening ismim Shoxrux\n",
      "Uning ismi Aslbek\n"
     ]
    }
   ],
   "source": [
    "print(f'Salom, mening ismim {ism}')\n",
    "print(f'Uning ismi {Ism}')"
   ]
  },
  {
   "cell_type": "markdown",
   "id": "780db354-e115-4c87-9e0f-84f77e320509",
   "metadata": {},
   "source": [
    "\\n"
   ]
  },
  {
   "cell_type": "code",
   "execution_count": 65,
   "id": "f44497bb-434c-443f-863a-449c7e3d958d",
   "metadata": {},
   "outputs": [
    {
     "name": "stdout",
     "output_type": "stream",
     "text": [
      "Salom, mening ismim Shoxrux \n",
      " Uning ismi Aslbek\n"
     ]
    }
   ],
   "source": [
    "print(f'Salom, mening ismim {ism} \\nUning ismi {Ism}')"
   ]
  },
  {
   "cell_type": "code",
   "execution_count": 67,
   "id": "8e8a2dc6-c19a-42b2-9ec9-0f11c8fbed1a",
   "metadata": {},
   "outputs": [
    {
     "name": "stdout",
     "output_type": "stream",
     "text": [
      "Salom \n",
      "Qalaysan\n"
     ]
    }
   ],
   "source": [
    "print(\"Salom \\nQalaysan\")"
   ]
  },
  {
   "cell_type": "code",
   "execution_count": null,
   "id": "bf02ce5c-efb8-4b94-bfab-1a1b674190fd",
   "metadata": {},
   "outputs": [],
   "source": []
  }
 ],
 "metadata": {
  "kernelspec": {
   "display_name": "Python 3 (ipykernel)",
   "language": "python",
   "name": "python3"
  },
  "language_info": {
   "codemirror_mode": {
    "name": "ipython",
    "version": 3
   },
   "file_extension": ".py",
   "mimetype": "text/x-python",
   "name": "python",
   "nbconvert_exporter": "python",
   "pygments_lexer": "ipython3",
   "version": "3.13.7"
  }
 },
 "nbformat": 4,
 "nbformat_minor": 5
}
