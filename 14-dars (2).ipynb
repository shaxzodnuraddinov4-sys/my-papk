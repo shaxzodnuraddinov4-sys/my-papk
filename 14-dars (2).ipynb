{
 "cells": [
  {
   "cell_type": "code",
   "execution_count": 7,
   "id": "f4f87e5d-1b8c-4217-9833-2f78dab0b53c",
   "metadata": {},
   "outputs": [
    {
     "name": "stdin",
     "output_type": "stream",
     "text": [
      "Raqam kiriting 6\n"
     ]
    },
    {
     "name": "stdout",
     "output_type": "stream",
     "text": [
      "6 raqami list ichida 5marta kelgan\n"
     ]
    }
   ],
   "source": [
    "n = [2,2,3,3,4,5,5,5,6,6,6,6,6,7,7,8,9]\n",
    "r = int(input(\"Raqam kiriting\"))\n",
    "print(f\"{r} raqami list ichida {n.count(r)}marta kelgan\")"
   ]
  },
  {
   "cell_type": "code",
   "execution_count": 28,
   "id": "ed329e06-28a4-4ab5-99b7-5e75c25418d5",
   "metadata": {},
   "outputs": [
    {
     "name": "stdin",
     "output_type": "stream",
     "text": [
      "Raqam kiriting 5\n"
     ]
    },
    {
     "name": "stdout",
     "output_type": "stream",
     "text": [
      "5 raqami list ichida 3marta kelgan\n"
     ]
    },
    {
     "name": "stdin",
     "output_type": "stream",
     "text": [
      "Raqam kiriting 7\n"
     ]
    },
    {
     "name": "stdout",
     "output_type": "stream",
     "text": [
      "7 raqami list ichida 2marta kelgan\n"
     ]
    }
   ],
   "source": [
    "n = [2,2,3,3,4,5,5,5,6,6,6,6,6,7,7]\n",
    "\n",
    "while True:\n",
    "    r = int(input(\"Raqam kiriting\"))\n",
    "    if r == 2:\n",
    "        print(f\"{r} raqami list ichida {n.count(r)}marta kelgan\")\n",
    "    elif r == 3:\n",
    "        print(f\"{r} raqami list ichida {n.count(r)}marta kelgan\")\n",
    "    elif r == 4:\n",
    "        print(f\"{r} raqami list ichida {n.count(r)}marta kelgan\")\n",
    "    elif r == 5:\n",
    "        print(f\"{r} raqami list ichida {n.count(r)}marta kelgan\")\n",
    "    elif r == 6:\n",
    "        print(f\"{r} raqami list ichida {n.count(r)}marta kelgan\")\n",
    "    elif r == 7:\n",
    "        print(f\"{r} raqami list ichida {n.count(r)}marta kelgan\")\n",
    "        break\n",
    "    else:\n",
    "        print(\"notogri raqam kiritildi\")"
   ]
  },
  {
   "cell_type": "code",
   "execution_count": 13,
   "id": "4616bc6f-8b56-42f7-abf8-bc4cff28ec1a",
   "metadata": {},
   "outputs": [
    {
     "name": "stdout",
     "output_type": "stream",
     "text": [
      "Salom\n"
     ]
    }
   ],
   "source": [
    "print(\"Salom\")"
   ]
  },
  {
   "cell_type": "code",
   "execution_count": 26,
   "id": "370ebaac-0157-4053-90d1-11ae822c7d7b",
   "metadata": {
    "scrolled": true
   },
   "outputs": [
    {
     "name": "stdin",
     "output_type": "stream",
     "text": [
      "Raqam kiriting 5.5\n"
     ]
    }
   ],
   "source": [
    "a = float(input(\"Raqam kiriting\"))"
   ]
  },
  {
   "cell_type": "code",
   "execution_count": 27,
   "id": "e0276d60-22b8-4a87-9c15-9e99ccd40571",
   "metadata": {},
   "outputs": [
    {
     "name": "stdout",
     "output_type": "stream",
     "text": [
      "5.5\n"
     ]
    }
   ],
   "source": [
    "print(a)"
   ]
  },
  {
   "cell_type": "code",
   "execution_count": null,
   "id": "67329be1-ac42-4083-94f7-1a9b87d5f3d2",
   "metadata": {},
   "outputs": [],
   "source": []
  }
 ],
 "metadata": {
  "kernelspec": {
   "display_name": "Python 3 (ipykernel)",
   "language": "python",
   "name": "python3"
  },
  "language_info": {
   "codemirror_mode": {
    "name": "ipython",
    "version": 3
   },
   "file_extension": ".py",
   "mimetype": "text/x-python",
   "name": "python",
   "nbconvert_exporter": "python",
   "pygments_lexer": "ipython3",
   "version": "3.13.7"
  }
 },
 "nbformat": 4,
 "nbformat_minor": 5
}
