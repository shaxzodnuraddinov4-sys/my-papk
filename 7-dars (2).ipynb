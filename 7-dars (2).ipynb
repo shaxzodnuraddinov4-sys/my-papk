{
 "cells": [
  {
   "cell_type": "markdown",
   "id": "06e9824f-2749-408b-9938-345ac1ec5718",
   "metadata": {},
   "source": [
    "## Nested if - if ning ichidagi if"
   ]
  },
  {
   "cell_type": "code",
   "execution_count": null,
   "id": "9832df03-4193-47f1-9170-f4cbb783c00b",
   "metadata": {},
   "outputs": [],
   "source": [
    "yosh = input(\"Yoshingizni kiriting:\")\n",
    "fuqaro = input(\"Davlat nomini yozing:\")"
   ]
  },
  {
   "cell_type": "code",
   "execution_count": null,
   "id": "54d38757-c5e2-4848-90ee-6e67bff67197",
   "metadata": {},
   "outputs": [],
   "source": [
    "if int(yosh)>=16:\n",
    "    if fuqaro == \"O'zbekiston\":\n",
    "        print(\"Siz ovoz berish huquqiga egasiz\")\n",
    "    else:\n",
    "        print(\"Siz boshqa davlat fuqarosisiz\")\n",
    "else: \n",
    "    print(\"Sizning yozishingiz 16ga to'lmagan\")"
   ]
  },
  {
   "cell_type": "markdown",
   "id": "e1b5c9d0-b9da-40fe-9f9f-ef8ede4e9f52",
   "metadata": {},
   "source": [
    "## Loop \n",
    "* while loop\n",
    "* for loop"
   ]
  },
  {
   "cell_type": "markdown",
   "id": "11e43d19-0758-4810-8ac1-e173b9b30ff9",
   "metadata": {},
   "source": [
    "## while loop"
   ]
  },
  {
   "cell_type": "raw",
   "id": "7af0de14-0d3d-4caa-9451-b4d47c6321cb",
   "metadata": {},
   "source": [
    "while shart:\n",
    "    vazifa (hohlagancha vazifa yozsa boladi)"
   ]
  },
  {
   "cell_type": "code",
   "execution_count": null,
   "id": "fb0d72f0-4337-481f-ab0f-96aabf98c844",
   "metadata": {},
   "outputs": [],
   "source": [
    "a = 10\n",
    "\n",
    "while a<=100:\n",
    "    print(a)\n",
    "    a = a+10"
   ]
  },
  {
   "cell_type": "code",
   "execution_count": null,
   "id": "f4ad1807-6637-4063-a1bd-9924f9ab6507",
   "metadata": {},
   "outputs": [],
   "source": [
    "sanoq = 5\n",
    "\n",
    "while sanoq > 0:\n",
    "    print(sanoq)\n",
    "    sanoq = sanoq - 1"
   ]
  },
  {
   "cell_type": "raw",
   "id": "31d9b75d-6bb6-4bb8-92b3-1665b5e85f97",
   "metadata": {},
   "source": [
    "str - matn/text"
   ]
  },
  {
   "cell_type": "code",
   "execution_count": null,
   "id": "ab44768f-6482-4efe-ae37-6e973d0c26da",
   "metadata": {},
   "outputs": [],
   "source": [
    "[\"Data Analyst\", \"Front end developer\", \"Back end developer\"] # list"
   ]
  },
  {
   "cell_type": "code",
   "execution_count": null,
   "id": "97604dde-28b5-4d9f-9a20-e87789c1023f",
   "metadata": {},
   "outputs": [],
   "source": [
    "[\"Salom\", 20, 4.1, True] # list"
   ]
  },
  {
   "cell_type": "raw",
   "id": "8bc03fde-8999-4ed6-b800-c03d5c2105bd",
   "metadata": {},
   "source": [
    "in  - ichidami\n",
    "not in  - ichida emasmi"
   ]
  },
  {
   "cell_type": "code",
   "execution_count": null,
   "id": "4a32b63e-c0e1-47db-be8e-c0bb6a2af64b",
   "metadata": {},
   "outputs": [],
   "source": [
    "ismlar = [\"Shoxrux\", \"Dilnura\", \"Asalxon\", \"Zaynabjon\"]"
   ]
  },
  {
   "cell_type": "code",
   "execution_count": null,
   "id": "619de1ff-563f-4d07-b187-2b715f3892e1",
   "metadata": {},
   "outputs": [],
   "source": [
    "\"Elbek\" in ismlar"
   ]
  },
  {
   "cell_type": "raw",
   "id": "be46dd0f-2cec-4142-a2c8-340dbdc65576",
   "metadata": {},
   "source": [
    "for expression(tarif) in item(o'zgaruvchi):\n",
    "    vazifa"
   ]
  },
  {
   "cell_type": "code",
   "execution_count": null,
   "id": "20dcd6ef-5da6-4dc0-9aa2-ff37dbc0509d",
   "metadata": {},
   "outputs": [],
   "source": [
    "for i in 'Olma':\n",
    "    print(i)"
   ]
  },
  {
   "cell_type": "code",
   "execution_count": null,
   "id": "da230d0c-b940-43cd-a344-c5dc5f6ad942",
   "metadata": {},
   "outputs": [],
   "source": [
    "for meva in [\"Olma\", \"Olcha\", \"Anor\", \"Behi\", \"Banan\"]:\n",
    "    print(meva)"
   ]
  },
  {
   "cell_type": "markdown",
   "id": "82100a28-e38f-4c05-91b7-df05f97eb2ff",
   "metadata": {},
   "source": [
    "## Nested loop:"
   ]
  },
  {
   "cell_type": "code",
   "execution_count": null,
   "id": "56e011ce-c1c5-49d9-9bcb-721e7fa19305",
   "metadata": {},
   "outputs": [],
   "source": [
    "ismlar = [\"Shoxrux\", \"Dilnura\", \"Asalxon\", \"Zaynabjon\"]\n",
    "mevalar = [\"Olma\", \"Olcha\", \"Anor\", \"Behi\", \"Banan\"]\n",
    "\n",
    "for meva in mevalar:\n",
    "    for ism in ismlar:\n",
    "        print(f\"{ism} {meva}ni avzal ko'radi\")"
   ]
  },
  {
   "cell_type": "markdown",
   "id": "b2712151-5066-4694-87c6-023e879a9081",
   "metadata": {},
   "source": [
    "## zip, enumerate"
   ]
  },
  {
   "cell_type": "code",
   "execution_count": 8,
   "id": "309c3bea-93d4-45dc-8ca2-8915d31ce289",
   "metadata": {},
   "outputs": [
    {
     "name": "stdout",
     "output_type": "stream",
     "text": [
      " Shoxrux Olmani afzal ko'radi\n",
      " Dilnura Olchani afzal ko'radi\n",
      " Asalxon Anorni afzal ko'radi\n",
      " Zaynabjon Behini afzal ko'radi\n"
     ]
    }
   ],
   "source": [
    "ismlar = [\"Shoxrux\", \"Dilnura\", \"Asalxon\", \"Zaynabjon\"]\n",
    "mevalar = [\"Olma\", \"Olcha\", \"Anor\", \"Behi\", \"Banan\"]\n",
    "\n",
    "for ism, meva in zip(ismlar, mevalar):\n",
    "    print(f\" {ism} {meva}ni afzal ko'radi\")"
   ]
  },
  {
   "cell_type": "code",
   "execution_count": 15,
   "id": "4ad1a7d6-00d9-495b-a81a-0ea92388f615",
   "metadata": {},
   "outputs": [
    {
     "name": "stdout",
     "output_type": "stream",
     "text": [
      "[5, 4, 3, 2, 1, 'Tabrik']\n"
     ]
    }
   ],
   "source": [
    "a = ['Tabrik' if i == 0 else i for i in range(5,-1,-1)]\n",
    "print(a)"
   ]
  },
  {
   "cell_type": "code",
   "execution_count": 20,
   "id": "5f028f7f-5da0-4033-ab96-0374fae52063",
   "metadata": {},
   "outputs": [
    {
     "name": "stdin",
     "output_type": "stream",
     "text": [
      "son kiriting 1\n"
     ]
    },
    {
     "name": "stdout",
     "output_type": "stream",
     "text": [
      "1 x 1 = 1\n",
      "1 x 2 = 2\n",
      "1 x 3 = 3\n",
      "1 x 4 = 4\n",
      "1 x 5 = 5\n",
      "1 x 6 = 6\n",
      "1 x 7 = 7\n",
      "1 x 8 = 8\n",
      "1 x 9 = 9\n",
      "1 x 10 = 10\n"
     ]
    }
   ],
   "source": [
    "a = int(input(\"son kiriting\"))\n",
    "\n",
    "for i in list(range(a+1)):\n",
    "    if i!=0:\n",
    "        for j in range(1,11):\n",
    "            print(f\"{i} x {j} = {i*j}\")"
   ]
  },
  {
   "cell_type": "code",
   "execution_count": 25,
   "id": "c9d0217a-1c81-4269-8675-403f9f37d6cc",
   "metadata": {},
   "outputs": [
    {
     "name": "stdin",
     "output_type": "stream",
     "text": [
      "son kiriting 5\n"
     ]
    },
    {
     "name": "stdout",
     "output_type": "stream",
     "text": [
      "5 x 1 = 5\n",
      "5 x 2 = 10\n",
      "5 x 3 = 15\n",
      "5 x 4 = 20\n",
      "5 x 5 = 25\n",
      "5 x 6 = 30\n",
      "5 x 7 = 35\n",
      "5 x 8 = 40\n",
      "5 x 9 = 45\n",
      "5 x 10 = 50\n"
     ]
    }
   ],
   "source": [
    "a = int(input(\"son kiriting\"))\n",
    "\n",
    "for i in list(range(a,a+1)):\n",
    "    for j in range(1,11):\n",
    "        print(f\"{i} x {j} = {i*j}\")"
   ]
  },
  {
   "cell_type": "code",
   "execution_count": null,
   "id": "70d4543f-6516-41e5-b146-d7f6ff8bd25c",
   "metadata": {},
   "outputs": [],
   "source": []
  }
 ],
 "metadata": {
  "kernelspec": {
   "display_name": "Python 3 (ipykernel)",
   "language": "python",
   "name": "python3"
  },
  "language_info": {
   "codemirror_mode": {
    "name": "ipython",
    "version": 3
   },
   "file_extension": ".py",
   "mimetype": "text/x-python",
   "name": "python",
   "nbconvert_exporter": "python",
   "pygments_lexer": "ipython3",
   "version": "3.13.7"
  }
 },
 "nbformat": 4,
 "nbformat_minor": 5
}
