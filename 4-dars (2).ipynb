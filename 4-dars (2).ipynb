{
 "cells": [
  {
   "cell_type": "markdown",
   "id": "5d323742-5ed2-4507-8f7b-0dbe337f30ca",
   "metadata": {},
   "source": [
    "# string metodlar \n",
    "* upper()\n",
    "* lower()\n",
    "* title()\n",
    "* capitalize()\n",
    "* strip()\n",
    "* lstrip()\n",
    "* rstrip()\n",
    "* split()\n",
    "* join()\n",
    "* replace()\n",
    "* find()"
   ]
  },
  {
   "cell_type": "code",
   "execution_count": null,
   "id": "4ceb7a21-1c84-4a12-b60e-f5fabc1d3f9e",
   "metadata": {},
   "outputs": [],
   "source": [
    "name = \"aslbek Erkinov\""
   ]
  },
  {
   "cell_type": "code",
   "execution_count": null,
   "id": "008ee0b7-805d-4435-b564-eb1c597140aa",
   "metadata": {},
   "outputs": [],
   "source": [
    "print(name.upper())\n",
    "print(name.lower())\n",
    "print(name.title())\n",
    "print(name.capitalize())"
   ]
  },
  {
   "cell_type": "code",
   "execution_count": null,
   "id": "202c0756-de7f-4610-978f-2b76f0ebd91e",
   "metadata": {},
   "outputs": [],
   "source": [
    "ism = input(\"Ismingizni kiriting:\")"
   ]
  },
  {
   "cell_type": "code",
   "execution_count": null,
   "id": "bee61c0c-1efa-42ad-8735-fb0b1c9076ee",
   "metadata": {},
   "outputs": [],
   "source": [
    "print(ism)"
   ]
  },
  {
   "cell_type": "code",
   "execution_count": null,
   "id": "454bf4a7-febc-4bf0-b506-9bdd7f3372f9",
   "metadata": {},
   "outputs": [],
   "source": [
    "print(ism.strip())\n",
    "print(ism.lstrip())\n",
    "print(ism.rstrip())"
   ]
  },
  {
   "cell_type": "code",
   "execution_count": null,
   "id": "55ad1730-41f2-4c89-9a78-e871a2e845e2",
   "metadata": {},
   "outputs": [],
   "source": [
    "print(name.split())"
   ]
  },
  {
   "cell_type": "code",
   "execution_count": null,
   "id": "57ebc7e8-72d5-45ea-9d63-f346098d5cd7",
   "metadata": {},
   "outputs": [],
   "source": [
    "ism = \"Shoxzod\"\n",
    "familya = \"Nuraddinov\""
   ]
  },
  {
   "cell_type": "code",
   "execution_count": null,
   "id": "9d96b550-b1c2-49fa-b257-ce92113ddcb4",
   "metadata": {},
   "outputs": [],
   "source": [
    "ism_familya = ['Shoxzod', 'Nuraddinov']"
   ]
  },
  {
   "cell_type": "code",
   "execution_count": null,
   "id": "da5ef205-1902-4bbc-9310-3ce765302b5f",
   "metadata": {},
   "outputs": [],
   "source": [
    "name = \" \".join(ism_familya)\n",
    "print(name)"
   ]
  },
  {
   "cell_type": "code",
   "execution_count": null,
   "id": "d4226ffb-a968-40ae-ad55-ebc6e16c90ee",
   "metadata": {},
   "outputs": [],
   "source": []
  },
  {
   "cell_type": "code",
   "execution_count": null,
   "id": "a2e51253-e5b5-48c1-8837-afe898766200",
   "metadata": {},
   "outputs": [],
   "source": []
  }
 ],
 "metadata": {
  "kernelspec": {
   "display_name": "Python 3 (ipykernel)",
   "language": "python",
   "name": "python3"
  },
  "language_info": {
   "codemirror_mode": {
    "name": "ipython",
    "version": 3
   },
   "file_extension": ".py",
   "mimetype": "text/x-python",
   "name": "python",
   "nbconvert_exporter": "python",
   "pygments_lexer": "ipython3",
   "version": "3.13.7"
  }
 },
 "nbformat": 4,
 "nbformat_minor": 5
}
