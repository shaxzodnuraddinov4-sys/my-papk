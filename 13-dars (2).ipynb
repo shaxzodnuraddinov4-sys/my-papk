{
 "cells": [
  {
   "cell_type": "code",
   "execution_count": null,
   "id": "6c4fa6a8-e9e0-4853-9574-3d89c293c699",
   "metadata": {},
   "outputs": [
    {
     "name": "stdout",
     "output_type": "stream",
     "text": [
      "Do'kon dasturi ishga tushdi.\n",
      "Metodlar: append, insert, extend, remove, count, copy, sort, reverse, clear\n"
     ]
    }
   ],
   "source": [
    "savat = []\n",
    "\n",
    "print(\"Do'kon dasturi ishga tushdi.\")\n",
    "print(\"Metodlar: append, insert, extend, remove, count, copy, sort, reverse, clear\")\n",
    "\n",
    "while True:\n",
    "    amal = input(\"Qaysi metodni ishlatmoqchisiz?\").lower()\n",
    "\n",
    "    if amal == \"append\":\n",
    "        mahsulot = input(\"Qo'shmoqchi bo'lgan maxsulotingizni yozing: \")\n",
    "        savat.append(mahsulot)\n",
    "        print(\"Savat:\", savat)\n",
    "    elif amal == \"insert\":\n",
    "        index = int(input(\"Qaysi pozitsiyaga qo'shmoqchisiz? \"))\n",
    "        mahsulot = input(\"Mahsulot nomini yozing: \")\n",
    "        savat.insert(index, mahsulot)\n",
    "        print(\"Savat:\", savat)\n",
    "    elif amal == \"extend\":\n",
    "        mahsulotlar = input(\"Mahsulotlarni vergul bilan ajratib yozing: \")\n",
    "        royxat = mahsulotlar.split(\",\")\n",
    "        savat.append(royxat)\n",
    "        print(\"Savat:\", \",\".join(savat))\n",
    "    elif amal == \"remove\":\n",
    "        mahsulot = input(\"Qays mahsulotni o'chirmoqchisiz?\")\n",
    "        if mahsulot in savat:\n",
    "            savat.remove(mahsulot)\n",
    "            print(f\"Savatdan {mahsulot} o'chirildi va qolgan mahsulotlar: {savat}\")\n",
    "        else:\n",
    "            print(\"Bu mahsulot savatda mavjud emas\")\n",
    "    elif amal == \"count\":\n",
    "        mahsulot = input(\"Qaysi mahsulotni sanamoqchisiz?\")\n",
    "        print(f\"{mahsulot} soni {savat.count(mahsulot)}ta\")\n",
    "    elif amal == \"copy\":\n",
    "        nusxa = savat.copy()\n",
    "        print(\"Savat nusxasi:\", nusxa)\n",
    "    elif amal == \"sort\":\n",
    "        turi = input(\"Qaysi ketma-ketlikda tartiblamoqchisiz? O'sish yoki kamayish dan birini yozing:\").lower()\n",
    "        if turi == \"o'sish\":\n",
    "            savat.sort()\n",
    "            print(\"Saralangan savat:\", savat)\n",
    "        elif turi == \"kamayish\":\n",
    "            savat.sort(reverse=True)\n",
    "            print(\"Saralangan savat:\", savat)\n",
    "        else:\n",
    "            print(\"O'sish yoki kamayish dan birini tanlang!\")\n",
    "    elif amal == \"reverse\":\n",
    "        savat.reverse()\n",
    "        print(\"Teskari tartib:\", savat)\n",
    "    elif amal == \"clear\":\n",
    "        savat.clear()\n",
    "        print(\"Savatdagi hamma narsa o'chirildi:\", savat)\n",
    "    elif amal == \"chiqish\":\n",
    "        print(\"Dastur to'xtadi\")\n",
    "        break\n",
    "    else:\n",
    "        print(\"Noto'g'ri ma'lumot kiritdingiz\")"
   ]
  },
  {
   "cell_type": "code",
   "execution_count": null,
   "id": "1bc4293e-c018-44a7-86ad-b15775e9babc",
   "metadata": {},
   "outputs": [],
   "source": []
  }
 ],
 "metadata": {
  "kernelspec": {
   "display_name": "Python 3 (ipykernel)",
   "language": "python",
   "name": "python3"
  },
  "language_info": {
   "codemirror_mode": {
    "name": "ipython",
    "version": 3
   },
   "file_extension": ".py",
   "mimetype": "text/x-python",
   "name": "python",
   "nbconvert_exporter": "python",
   "pygments_lexer": "ipython3",
   "version": "3.13.7"
  }
 },
 "nbformat": 4,
 "nbformat_minor": 5
}
