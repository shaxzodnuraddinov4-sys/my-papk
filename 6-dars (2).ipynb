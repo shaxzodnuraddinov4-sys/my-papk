{
 "cells": [
  {
   "cell_type": "raw",
   "id": "cc63d281-30cc-4c58-8085-dbfe2aab29e2",
   "metadata": {},
   "source": [
    "If, elif(bir qancha elif ishlatsa boladi), else\n",
    "\n",
    ">, <, >=, <=, !=, <>, ==\n",
    "\n",
    "if shart:\n",
    "    vazifa bajarilsin agar shart to'g'ri bolsa\n",
    "elif 3-shart:\n",
    "    har ikkala shart notogri bolganda shu vazifani bajar\n",
    "else:\n",
    "    vazifa bajarilsin agar shart notogri bolsa"
   ]
  },
  {
   "cell_type": "code",
   "execution_count": null,
   "id": "200ea6a2-e467-4363-af87-b80115004455",
   "metadata": {},
   "outputs": [],
   "source": [
    "ball = int(input(\"Bugun olgan ballingizni kiriting:\"))\n",
    "\n",
    "if ball>=9:\n",
    "    print(\"Excellent\")\n",
    "elif 6<ball<9:\n",
    "    print(\"Good\")\n",
    "elif 3<ball<6:\n",
    "    print(\"Bad\")\n",
    "else:\n",
    "    print(\"Very Bad\")"
   ]
  }
 ],
 "metadata": {
  "kernelspec": {
   "display_name": "Python 3 (ipykernel)",
   "language": "python",
   "name": "python3"
  },
  "language_info": {
   "codemirror_mode": {
    "name": "ipython",
    "version": 3
   },
   "file_extension": ".py",
   "mimetype": "text/x-python",
   "name": "python",
   "nbconvert_exporter": "python",
   "pygments_lexer": "ipython3",
   "version": "3.13.7"
  }
 },
 "nbformat": 4,
 "nbformat_minor": 5
}
