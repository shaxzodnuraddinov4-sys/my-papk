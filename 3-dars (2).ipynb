{
 "cells": [
  {
   "cell_type": "markdown",
   "id": "563e556c-4de2-4533-a521-463567b43771",
   "metadata": {},
   "source": [
    "# Masalalar:"
   ]
  },
  {
   "cell_type": "markdown",
   "id": "30a16ddf-5ac8-4067-bf57-836f62df2927",
   "metadata": {},
   "source": [
    "1. Tomonlari 9 va 15 ga ten to'g'ri to'rtburchakning perimetri va yuzini toping.\n",
    "2. Katetlari 26 va 32 ga teng to'g'ri uchburchakning gipotenuzasini toping.\n",
    "3. 243 sonini 12 ga bo'lganda nechta qoldiq qolishini toping.\n",
    "4. Yoshingizni xisoblaydigan formula yozing."
   ]
  },
  {
   "cell_type": "code",
   "execution_count": 5,
   "id": "d37f669f-9186-4693-a113-05b1e2cfc47a",
   "metadata": {},
   "outputs": [
    {
     "name": "stdout",
     "output_type": "stream",
     "text": [
      "48\n"
     ]
    }
   ],
   "source": [
    "a = 9\n",
    "b = 15\n",
    "perimetr = 2*(a+b)\n",
    "\n",
    "# Perimetrni chiqaramiz\n",
    "print(perimetr)"
   ]
  },
  {
   "cell_type": "code",
   "execution_count": null,
   "id": "fae07eeb-bd22-4a81-87ea-b0458b32291f",
   "metadata": {},
   "outputs": [],
   "source": [
    "# Endi, to'g'ri to'rtburchakning yuzasini topamiz\n",
    "\n",
    "# yuzani topish formulasi\n",
    "yuza = a*b\n",
    "\n",
    "# natijani chiqaramiz\n",
    "print(yuza)"
   ]
  },
  {
   "cell_type": "code",
   "execution_count": null,
   "id": "bba772ab-979c-4ae5-aab1-03b333731386",
   "metadata": {},
   "outputs": [],
   "source": [
    "# to'g'ri to'rtburchakning katetlari\n",
    "a = 26 \n",
    "b = 32\n",
    "\n",
    "# gipatenuzani topish formulasi\n",
    "c = (a**2 + b**2)**0.5\n",
    "\n",
    "# natijani chiqaramiz\n",
    "print(f\"To'g'ri to'rtburchakining gipatenuzasi taxminan {c:.2f}ga teng\")"
   ]
  },
  {
   "cell_type": "code",
   "execution_count": null,
   "id": "c649ca9e-24ed-4f35-a843-448d92c536d1",
   "metadata": {},
   "outputs": [],
   "source": [
    "qoldiq = 243%12\n",
    "\n",
    "# natijamiz\n",
    "print(qoldiq)"
   ]
  },
  {
   "cell_type": "code",
   "execution_count": 14,
   "id": "76c39151-0caf-4ab5-bd68-9dcb69f9111a",
   "metadata": {},
   "outputs": [
    {
     "data": {
      "text/plain": [
       "1.4285714285714286"
      ]
     },
     "execution_count": 14,
     "metadata": {},
     "output_type": "execute_result"
    }
   ],
   "source": [
    "10/7"
   ]
  },
  {
   "cell_type": "code",
   "execution_count": 13,
   "id": "de4bc2c9-0a12-44b8-a6a2-0152a58aecc3",
   "metadata": {},
   "outputs": [
    {
     "data": {
      "text/plain": [
       "3"
      ]
     },
     "execution_count": 13,
     "metadata": {},
     "output_type": "execute_result"
    }
   ],
   "source": [
    "10%7"
   ]
  },
  {
   "cell_type": "code",
   "execution_count": 17,
   "id": "efa6fb0d-9f5c-4b0e-a7a5-3a86386dd8a2",
   "metadata": {},
   "outputs": [
    {
     "name": "stdout",
     "output_type": "stream",
     "text": [
      "17\n"
     ]
    }
   ],
   "source": [
    "birth_date = 2008\n",
    "current_date = 2025\n",
    "\n",
    "age = current_date%birth_date\n",
    "\n",
    "# yoshni chiqaramiz\n",
    "print(age)"
   ]
  },
  {
   "cell_type": "code",
   "execution_count": null,
   "id": "93b346ec-241f-4be7-b246-343329f394e9",
   "metadata": {},
   "outputs": [],
   "source": [
    "birth_date = 2008\n",
    "current_date = 2025\n",
    "\n",
    "age = current_date-birth_date"
   ]
  },
  {
   "cell_type": "code",
   "execution_count": null,
   "id": "8df850e2-67e4-4e2c-977f-fadaded37c26",
   "metadata": {},
   "outputs": [],
   "source": [
    "print(age)"
   ]
  },
  {
   "cell_type": "markdown",
   "id": "9528545e-ef03-4ac6-be39-5baef5890fe7",
   "metadata": {},
   "source": [
    "# input() va int()"
   ]
  },
  {
   "cell_type": "code",
   "execution_count": 22,
   "id": "84aa0fcb-1170-4d71-85a4-1b5d532cc734",
   "metadata": {},
   "outputs": [
    {
     "name": "stdin",
     "output_type": "stream",
     "text": [
      " 545\n"
     ]
    }
   ],
   "source": [
    "birth_date = int(input())"
   ]
  },
  {
   "cell_type": "code",
   "execution_count": 23,
   "id": "4d6d79be-44d1-4bcf-9173-24966cb03727",
   "metadata": {},
   "outputs": [
    {
     "data": {
      "text/plain": [
       "int"
      ]
     },
     "execution_count": 23,
     "metadata": {},
     "output_type": "execute_result"
    }
   ],
   "source": [
    "type(birth_date)"
   ]
  },
  {
   "cell_type": "code",
   "execution_count": null,
   "id": "e0389371-cc9c-4925-915b-bec1f4b4dff7",
   "metadata": {},
   "outputs": [],
   "source": [
    "\"646\""
   ]
  },
  {
   "cell_type": "code",
   "execution_count": null,
   "id": "fa44ce78-2581-459b-bbd3-130fa4a301a5",
   "metadata": {},
   "outputs": [],
   "source": [
    "int(birth_date)*2"
   ]
  },
  {
   "cell_type": "code",
   "execution_count": 5,
   "id": "a4c469fa-c4d0-4422-b536-d5707e6f58c2",
   "metadata": {},
   "outputs": [
    {
     "name": "stdin",
     "output_type": "stream",
     "text": [
      "Qaysi yilda tug'ulgansiz? \n",
      " 2008\n",
      "Hozirgi yil qaysi? \n",
      " 2025\n"
     ]
    }
   ],
   "source": [
    "birth_date = input(\"Qaysi yilda tug'ulgansiz? \\n\")\n",
    "current_date = input(\"Hozirgi yil qaysi? \\n\")\n",
    "\n",
    "age = int(current_date) - int(birth_date)"
   ]
  },
  {
   "cell_type": "code",
   "execution_count": 6,
   "id": "25e089a2-e65d-4cce-a741-bea889e943a6",
   "metadata": {},
   "outputs": [
    {
     "name": "stdout",
     "output_type": "stream",
     "text": [
      "Ma'lumot uchun rahmat! \n",
      "Sizning yoshingiz 17da\n"
     ]
    }
   ],
   "source": [
    "# natija\n",
    "print(f\"Ma'lumot uchun rahmat! \\nSizning yoshingiz {age}da\")\n",
    "# print(\"Ma'lumot uchun rahmat! \\nSizning yoshingiz\", age,\"da\")"
   ]
  },
  {
   "cell_type": "code",
   "execution_count": null,
   "id": "b07302a0-f7cf-44a4-8bac-c546bf68f196",
   "metadata": {},
   "outputs": [],
   "source": []
  }
 ],
 "metadata": {
  "kernelspec": {
   "display_name": "Python 3 (ipykernel)",
   "language": "python",
   "name": "python3"
  },
  "language_info": {
   "codemirror_mode": {
    "name": "ipython",
    "version": 3
   },
   "file_extension": ".py",
   "mimetype": "text/x-python",
   "name": "python",
   "nbconvert_exporter": "python",
   "pygments_lexer": "ipython3",
   "version": "3.13.7"
  }
 },
 "nbformat": 4,
 "nbformat_minor": 5
}
