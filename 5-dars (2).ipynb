{
 "cells": [
  {
   "cell_type": "code",
   "execution_count": 55,
   "id": "db55f590-173e-402f-b679-f2edb7936f14",
   "metadata": {},
   "outputs": [],
   "source": [
    "full_name = \"Ali Boboyev\""
   ]
  },
  {
   "cell_type": "code",
   "execution_count": null,
   "id": "2de4e3d5-6da3-4617-9eef-27ce03a69d63",
   "metadata": {},
   "outputs": [],
   "source": [
    "print(full_name[0])"
   ]
  },
  {
   "cell_type": "code",
   "execution_count": 56,
   "id": "e023baeb-e0fb-452e-a869-94bd64a14487",
   "metadata": {},
   "outputs": [
    {
     "name": "stdout",
     "output_type": "stream",
     "text": [
      "Ali\n"
     ]
    }
   ],
   "source": [
    "print(full_name.split()[0])"
   ]
  },
  {
   "cell_type": "code",
   "execution_count": null,
   "id": "7a30bbce-3b7f-4d39-804e-be0ea32c23a8",
   "metadata": {},
   "outputs": [],
   "source": [
    "ism = full_name.split()"
   ]
  },
  {
   "cell_type": "code",
   "execution_count": null,
   "id": "2ca48d27-ded4-4a70-9521-e4971420e358",
   "metadata": {},
   "outputs": [],
   "source": [
    "print(full_name[0])\n",
    "print(ism[0])"
   ]
  },
  {
   "cell_type": "code",
   "execution_count": null,
   "id": "301f82b7-6e8b-4d87-95fb-034f155aae4e",
   "metadata": {},
   "outputs": [],
   "source": [
    "ism2 = \" \".join(ism)"
   ]
  },
  {
   "cell_type": "code",
   "execution_count": null,
   "id": "eeea8262-4127-4a86-bc84-75cb2fbe002c",
   "metadata": {},
   "outputs": [],
   "source": [
    "print(ism)\n",
    "print(ism2)"
   ]
  },
  {
   "cell_type": "code",
   "execution_count": null,
   "id": "42f7dc69-1624-450b-baae-d2794101b417",
   "metadata": {},
   "outputs": [],
   "source": [
    "print(\" \".join(ism))"
   ]
  },
  {
   "cell_type": "markdown",
   "id": "5f86d2fb-e0ee-4cdf-a737-ad9f880429a3",
   "metadata": {},
   "source": [
    "# Index"
   ]
  },
  {
   "cell_type": "code",
   "execution_count": 1,
   "id": "fe6b5cc8-a1bb-45dd-95a0-9efd0eb9b3c0",
   "metadata": {},
   "outputs": [],
   "source": [
    "fan = \"Python 65416fsfg5163*!),./\""
   ]
  },
  {
   "cell_type": "code",
   "execution_count": 2,
   "id": "2a92c664-7beb-40dd-b9d8-da176511bf69",
   "metadata": {},
   "outputs": [
    {
     "name": "stdout",
     "output_type": "stream",
     "text": [
      "h\n"
     ]
    }
   ],
   "source": [
    "print(fan[3])"
   ]
  },
  {
   "cell_type": "code",
   "execution_count": null,
   "id": "7cfcce1f-4a11-4a6d-9813-3d50aa385802",
   "metadata": {},
   "outputs": [],
   "source": [
    "print(fan[-1])"
   ]
  },
  {
   "cell_type": "markdown",
   "id": "b41dddc3-09a2-4e1e-9ba6-d9fe6f42fd14",
   "metadata": {},
   "source": [
    "# Slicing"
   ]
  },
  {
   "cell_type": "code",
   "execution_count": 6,
   "id": "a5e8b47f-9efd-44b7-a27e-d47baf953bfe",
   "metadata": {},
   "outputs": [
    {
     "name": "stdout",
     "output_type": "stream",
     "text": [
      "Python\n",
      "n 65416fsfg5163*!),./\n"
     ]
    }
   ],
   "source": [
    "fan = \"Python 65416fsfg5163*!),./\"\n",
    "print(fan[0:6])\n",
    "print(fan[5:])"
   ]
  },
  {
   "cell_type": "code",
   "execution_count": null,
   "id": "e74a8df4-d83c-4e59-a4b6-c0911e80c57f",
   "metadata": {},
   "outputs": [],
   "source": [
    "print(fan[-3:-1])"
   ]
  },
  {
   "cell_type": "code",
   "execution_count": 9,
   "id": "bc725fdd-2d6a-4eec-88b4-e47e7765707d",
   "metadata": {},
   "outputs": [
    {
     "name": "stdout",
     "output_type": "stream",
     "text": [
      ",./\n"
     ]
    }
   ],
   "source": [
    "print(fan[-3:])"
   ]
  },
  {
   "cell_type": "code",
   "execution_count": 11,
   "id": "19cf8659-7ae4-4b20-8b00-ec919cb19d21",
   "metadata": {},
   "outputs": [],
   "source": [
    "number = \"0123456789\""
   ]
  },
  {
   "cell_type": "code",
   "execution_count": 23,
   "id": "37b718a2-5a4b-4461-9d5b-589d4db40d44",
   "metadata": {},
   "outputs": [
    {
     "name": "stdout",
     "output_type": "stream",
     "text": [
      "0123456789\n",
      "9876543210\n"
     ]
    }
   ],
   "source": [
    "print(number[::1])\n",
    "print(number[::-1])"
   ]
  },
  {
   "cell_type": "code",
   "execution_count": 16,
   "id": "c30b028d-015e-4e38-adb8-3e62b7002c93",
   "metadata": {},
   "outputs": [
    {
     "name": "stdout",
     "output_type": "stream",
     "text": [
      "02468\n"
     ]
    }
   ],
   "source": [
    "print(number[0::2])"
   ]
  },
  {
   "cell_type": "markdown",
   "id": "cf9929fc-6f63-49e6-b8df-78a9a122b5e9",
   "metadata": {},
   "source": [
    "# Reverse"
   ]
  },
  {
   "cell_type": "code",
   "execution_count": null,
   "id": "08475467-74ba-4511-bf59-977903a601f3",
   "metadata": {},
   "outputs": [],
   "source": [
    "print(number[::-1])\n",
    "print(number[::-2])"
   ]
  },
  {
   "cell_type": "code",
   "execution_count": null,
   "id": "aa96337e-01b9-4dff-822f-f8dda54c9630",
   "metadata": {},
   "outputs": [],
   "source": [
    "print(number[:4:-2])"
   ]
  },
  {
   "cell_type": "markdown",
   "id": "3660fc99-a0b0-401f-b985-7e1da8575a11",
   "metadata": {},
   "source": [
    "# Mashq"
   ]
  },
  {
   "cell_type": "markdown",
   "id": "66c77a12-9d90-420c-89c1-b249f03152bb",
   "metadata": {},
   "source": [
    "Code yozing:\n",
    "1. Foydalanuvchi ismini va familyasini kiritishini so'rasin\n",
    "2. o'sha ism familyani 2 qismga ajrating (.split() ishlatilsin)\n",
    "3. ajratilgan ma'lumotni alohida print qiling (index orqali)"
   ]
  },
  {
   "cell_type": "code",
   "execution_count": null,
   "id": "8d7efe49-492e-4c44-92d2-af7454d5ea55",
   "metadata": {},
   "outputs": [],
   "source": []
  }
 ],
 "metadata": {
  "kernelspec": {
   "display_name": "Python 3 (ipykernel)",
   "language": "python",
   "name": "python3"
  },
  "language_info": {
   "codemirror_mode": {
    "name": "ipython",
    "version": 3
   },
   "file_extension": ".py",
   "mimetype": "text/x-python",
   "name": "python",
   "nbconvert_exporter": "python",
   "pygments_lexer": "ipython3",
   "version": "3.13.7"
  }
 },
 "nbformat": 4,
 "nbformat_minor": 5
}
