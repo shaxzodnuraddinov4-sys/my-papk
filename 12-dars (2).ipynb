{
 "cells": [
  {
   "cell_type": "markdown",
   "id": "53901783-8d26-4840-ae3a-58359f2d764b",
   "metadata": {},
   "source": [
    "# Practice"
   ]
  },
  {
   "cell_type": "raw",
   "id": "45db383c-c30a-4b71-9438-8a94b92cb959",
   "metadata": {},
   "source": [
    "Quyidagi talablarga mos interactive dastur tuzing.\n",
    "\n",
    "Dasturda quyidagi metodlardan foydalaning:\n",
    "append, insert, extend, remove, count, copy, sort, reverse, clear\n",
    "\n",
    "Natija haqida:\n",
    "Dastur foydalanuvchidan qaysi metod ishlatishni soraydi va har safar natijani chiqaradi.\n",
    "\"Chiqish\" so'zini yozsa, dastur to'xtaydi.\n",
    "\n",
    "Natijaga misol:\n",
    "Do'kon dasturi ishga tushdi.\n",
    "Metodlar: append, insert, extend, remove, count, copy, sort, reverse, clear\n",
    "\n",
    "Qaysi metodni ishlatmoqchisiz? \n",
    "(Foydalanuvchi metod ni yozadi va dastur yana keyingi savolni soraydi)\n",
    "Ishlatilmoqchi bo'lgan metodga qarab savol beriladi. Masalan, insert tanlansa \"Qaysi pozitsiyaga qo'shmoqchisiz?\" deb keyin \"Savatga nima qo'shamiz\" deb. \n",
    "\n",
    "\"Chiqish\" so'zini yozsa dastur \"Dastur to'xtadi\" deb toxtaydi.\n",
    "Metodlar va \"Chiqish\" so'zidan boshqa narsa yozilsa \"Noto'g'ri ma'lumot kiritildi\" deyishi kerak."
   ]
  },
  {
   "cell_type": "code",
   "execution_count": null,
   "id": "f868699c-a4c6-4507-ad26-91b9afb9c369",
   "metadata": {},
   "outputs": [],
   "source": [
    "savat = []"
   ]
  },
  {
   "cell_type": "code",
   "execution_count": null,
   "id": "92958f03-a4bb-4dd3-8432-c3e0f14dab11",
   "metadata": {},
   "outputs": [],
   "source": [
    "print(\"Do'kon dasturi ishga tushdi. \\nMetodlar: append, insert, extend, remove, count, copy, sort, reverse, clear\")\n",
    "\n",
    "while True:\n",
    "    amal = input(\"Qaysi metoddan foydalanmoqchisiz?\")()\n",
    "\n",
    "    if amal == \"append\":\n",
    "        mahsulot = input(\"Mahsulot nomi: \")\n",
    "        savat.append(mahsulot)\n",
    "        print(\"Savatga qo'shilgan mahsulot:\", savat)\n",
    "    elif amal == \"insert\":\n",
    "        raqam = int(input(\"Qaysi pozitsiyaga qo'shmoqchisiz?\"))\n",
    "        mahsulot = input(\"Mahsulot nomi:\")\n",
    "        savat.insert(raqam, mahsulot)\n",
    "        print(\"Savatga qo'shilgan mahsulot:\", savat)\n",
    "        break\n",
    "    else:\n",
    "        print(\"Noto'g'ri ma'lumot kiritdingiz\")"
   ]
  },
  {
   "cell_type": "code",
   "execution_count": 13,
   "id": "52d6dcf8-5c24-4893-8350-2be9df076570",
   "metadata": {},
   "outputs": [
    {
     "name": "stdout",
     "output_type": "stream",
     "text": [
      "['Olma', 'nok', 'Shaftoli', 'Gilos', 'Shaftoli']\n"
     ]
    }
   ],
   "source": [
    "print(savat)"
   ]
  },
  {
   "cell_type": "code",
   "execution_count": 12,
   "id": "69d89795-5610-4563-94a5-b4796238b200",
   "metadata": {},
   "outputs": [],
   "source": [
    "savat.insert(2, \"Shaftoli\")"
   ]
  },
  {
   "cell_type": "code",
   "execution_count": null,
   "id": "6761020c-b85b-4ca7-b193-2561127ae17c",
   "metadata": {},
   "outputs": [],
   "source": []
  }
 ],
 "metadata": {
  "kernelspec": {
   "display_name": "Python 3 (ipykernel)",
   "language": "python",
   "name": "python3"
  },
  "language_info": {
   "codemirror_mode": {
    "name": "ipython",
    "version": 3
   },
   "file_extension": ".py",
   "mimetype": "text/x-python",
   "name": "python",
   "nbconvert_exporter": "python",
   "pygments_lexer": "ipython3",
   "version": "3.13.7"
  }
 },
 "nbformat": 4,
 "nbformat_minor": 5
}
