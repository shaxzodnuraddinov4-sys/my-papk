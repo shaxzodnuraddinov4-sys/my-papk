{
 "cells": [
  {
   "cell_type": "markdown",
   "id": "e209530a-6077-4cf4-95aa-1130ce00779b",
   "metadata": {},
   "source": [
    "# Tuple"
   ]
  },
  {
   "cell_type": "code",
   "execution_count": null,
   "id": "fa275f22-2962-468b-922c-2f830e4f30ea",
   "metadata": {},
   "outputs": [],
   "source": [
    "ism = (\"Shaxzod\", \"Aslbek\",\"Shoxrux\", \"Tohir\")"
   ]
  },
  {
   "cell_type": "code",
   "execution_count": null,
   "id": "2de5650b-3fa0-412d-9dff-08d97ba96193",
   "metadata": {},
   "outputs": [],
   "source": [
    "print(ism)"
   ]
  },
  {
   "cell_type": "code",
   "execution_count": null,
   "id": "eb5ed3bc-0aa6-487d-84eb-6b28d971757a",
   "metadata": {},
   "outputs": [],
   "source": [
    "type(ism)"
   ]
  },
  {
   "cell_type": "code",
   "execution_count": null,
   "id": "40e080c1-c636-493e-a7ed-ee1e19c98390",
   "metadata": {},
   "outputs": [],
   "source": [
    "a = (\"1\",)"
   ]
  },
  {
   "cell_type": "code",
   "execution_count": null,
   "id": "01901ed9-e16d-4dd5-99a7-207eb20556a8",
   "metadata": {},
   "outputs": [],
   "source": [
    "type(a)"
   ]
  },
  {
   "cell_type": "markdown",
   "id": "cb5c2d4f-98f5-4a16-8cf8-0c3787883429",
   "metadata": {},
   "source": [
    "# Tuple indexing"
   ]
  },
  {
   "cell_type": "code",
   "execution_count": null,
   "id": "2fdac714-2de5-4e18-8eec-afd33014b30f",
   "metadata": {},
   "outputs": [],
   "source": [
    "ism = (\"Shaxzod\", \"Aslbek\",\"Shoxrux\", \"Tohir\", 23)"
   ]
  },
  {
   "cell_type": "code",
   "execution_count": null,
   "id": "f809d502-0369-420c-a1bf-eae573d6bfff",
   "metadata": {},
   "outputs": [],
   "source": [
    "print(ism[2])"
   ]
  },
  {
   "cell_type": "code",
   "execution_count": null,
   "id": "c1aaa75c-ac7e-47ad-876e-b644bd3f1b5f",
   "metadata": {},
   "outputs": [],
   "source": [
    "c = ism[-1]"
   ]
  },
  {
   "cell_type": "code",
   "execution_count": null,
   "id": "08c23b51-d85a-4eb7-b82e-f763836846b9",
   "metadata": {},
   "outputs": [],
   "source": [
    "type(c)"
   ]
  },
  {
   "cell_type": "code",
   "execution_count": null,
   "id": "ae1e4ab1-fab9-4eef-9b28-0b49f48a5f63",
   "metadata": {},
   "outputs": [],
   "source": [
    "print(c)"
   ]
  },
  {
   "cell_type": "code",
   "execution_count": null,
   "id": "b981b937-f6df-453b-a6a8-884a30b91d1b",
   "metadata": {},
   "outputs": [],
   "source": [
    "print(ism[-3])"
   ]
  },
  {
   "cell_type": "code",
   "execution_count": null,
   "id": "c64b8489-39fc-47d9-a9a9-9a7492796556",
   "metadata": {},
   "outputs": [],
   "source": [
    "a = list(ism)\n",
    "print(a)"
   ]
  },
  {
   "cell_type": "code",
   "execution_count": null,
   "id": "fe438417-41cb-4060-9132-0997133cc559",
   "metadata": {},
   "outputs": [],
   "source": [
    "a[-1]='Ali'"
   ]
  },
  {
   "cell_type": "code",
   "execution_count": null,
   "id": "2d321609-7e92-48f9-a1ac-3336e55ea29e",
   "metadata": {},
   "outputs": [],
   "source": [
    "print(a)"
   ]
  },
  {
   "cell_type": "code",
   "execution_count": null,
   "id": "08df001e-e40f-41b7-a111-14d689a5cc98",
   "metadata": {},
   "outputs": [],
   "source": [
    "ism = tuple(a)"
   ]
  },
  {
   "cell_type": "code",
   "execution_count": null,
   "id": "470eb63d-660a-47d0-aebf-2c90a05d8d71",
   "metadata": {},
   "outputs": [],
   "source": [
    "print(ism)"
   ]
  },
  {
   "cell_type": "markdown",
   "id": "28ef1a28-4726-4c33-a8fc-bd3bdc4414d3",
   "metadata": {},
   "source": [
    "# Tuple slicing"
   ]
  },
  {
   "cell_type": "code",
   "execution_count": null,
   "id": "0034b612-eb9c-4446-a6b6-c2055e0365ab",
   "metadata": {},
   "outputs": [],
   "source": [
    "tuple_nomi[start:stop:step]"
   ]
  },
  {
   "cell_type": "code",
   "execution_count": null,
   "id": "c4eaebfc-c0f4-4fff-9ce5-211bb445d3af",
   "metadata": {},
   "outputs": [],
   "source": [
    "print(ism[0:4])"
   ]
  },
  {
   "cell_type": "code",
   "execution_count": null,
   "id": "23b21d22-2f15-40f7-ac83-a4de6e3cbb72",
   "metadata": {},
   "outputs": [],
   "source": [
    "number = (0,1,2,3,4,5,6)"
   ]
  },
  {
   "cell_type": "code",
   "execution_count": null,
   "id": "aa0869da-8917-412f-90cd-f48f1d24e5ac",
   "metadata": {},
   "outputs": [],
   "source": [
    "print(number[0:6])"
   ]
  },
  {
   "cell_type": "code",
   "execution_count": null,
   "id": "3f0431e8-88ca-4cff-befe-b0bda99cc4f1",
   "metadata": {},
   "outputs": [],
   "source": [
    "print(ism[::-1])"
   ]
  },
  {
   "cell_type": "markdown",
   "id": "09720864-5727-46a9-bee8-c9e3e3cb385f",
   "metadata": {},
   "source": [
    "len()    - \n",
    "in\n",
    "count()\n",
    "index()"
   ]
  },
  {
   "cell_type": "code",
   "execution_count": null,
   "id": "98855f8a-50e0-4592-bb4f-d5b218345ba1",
   "metadata": {},
   "outputs": [],
   "source": [
    "len([\"Salom\", \"Hi\"])"
   ]
  },
  {
   "cell_type": "code",
   "execution_count": null,
   "id": "439d8197-2327-42fa-8b7d-272db7435f5b",
   "metadata": {},
   "outputs": [],
   "source": [
    "len(\"Salom\")"
   ]
  },
  {
   "cell_type": "code",
   "execution_count": null,
   "id": "5e91a395-c0b6-47e1-925e-b2a91a31c76f",
   "metadata": {},
   "outputs": [],
   "source": [
    "ism = (\"Shaxzod\", \"Aslbek\",\"Shoxrux\", \"Tohir\", \"Ali\")"
   ]
  },
  {
   "cell_type": "code",
   "execution_count": null,
   "id": "e9c08410-ebe8-4fcc-88d8-7b511952d974",
   "metadata": {},
   "outputs": [],
   "source": [
    "number = [1,2,3,4,5,6,7,8,9,9,45]\n",
    "4 in number"
   ]
  },
  {
   "cell_type": "code",
   "execution_count": null,
   "id": "58f95be3-23f5-48a5-b726-e90ace3f91ae",
   "metadata": {
    "scrolled": true
   },
   "outputs": [],
   "source": [
    "num = int(input(\"Son kiriting\"))\n",
    "\n",
    "if num in number:\n",
    "    print(\"Son mavjud\")\n",
    "else:\n",
    "    print(\"Son mavjud emas\")"
   ]
  },
  {
   "cell_type": "code",
   "execution_count": null,
   "id": "3f139d82-2d23-456d-9734-30bc27efea17",
   "metadata": {},
   "outputs": [],
   "source": [
    "for i in number:\n",
    "    print(i)"
   ]
  },
  {
   "cell_type": "code",
   "execution_count": null,
   "id": "1e07610a-f5b1-4e33-9eb6-f0378f3063ac",
   "metadata": {},
   "outputs": [],
   "source": [
    "number.count(8)"
   ]
  },
  {
   "cell_type": "code",
   "execution_count": null,
   "id": "d57279be-fc69-4924-a3b7-538160c2b524",
   "metadata": {},
   "outputs": [],
   "source": [
    "number.index(9)"
   ]
  },
  {
   "cell_type": "raw",
   "id": "a2132d5e-0400-467a-8a2b-2469758777b7",
   "metadata": {},
   "source": [
    "Mashq:\n",
    "Students o'zgaruvchi tuple yarating va unda ism, yosh va kurs nomi bolsin.\n",
    "if orqali kurs nomini tekshiring. Mavjud bo'lsa print qilsin, mavjud bo'lmasa \n",
    "tuple ni list ga aylantirib o'sha kurs nomiga o'zgartiring va listni qaytarib \n",
    "tuple ga aylantrb qoying. \n"
   ]
  }
 ],
 "metadata": {
  "kernelspec": {
   "display_name": "Python 3 (ipykernel)",
   "language": "python",
   "name": "python3"
  },
  "language_info": {
   "codemirror_mode": {
    "name": "ipython",
    "version": 3
   },
   "file_extension": ".py",
   "mimetype": "text/x-python",
   "name": "python",
   "nbconvert_exporter": "python",
   "pygments_lexer": "ipython3",
   "version": "3.13.7"
  }
 },
 "nbformat": 4,
 "nbformat_minor": 5
}
